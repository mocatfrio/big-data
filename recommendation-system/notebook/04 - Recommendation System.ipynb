{
 "cells": [
  {
   "cell_type": "markdown",
   "metadata": {},
   "source": [
    "# Assignment 04 - Recommendation System using Collaborative Filtering \n",
    "## 1. Preparation\n",
    "### 1.1 Requirements\n",
    "\n",
    "1. Apache Spark 2.4.0 Binary (https://spark.apache.org/downloads.html)\n",
    "2. PySpark 2.4.2 (Apache Spark Python API)\n",
    "3. Jupyter Notebook (https://jupyter.org/install)\n",
    "4. Numpy 1.16.3\n",
    "\n",
    "### 1.2 Dataset\n",
    "* Dataset's name : [Goodbooks-10k Datasets](https://github.com/zygmuntz/goodbooks-10k)\n",
    "* Description : This dataset contains six million ratings for ten thousand most popular books (with most ratings). There are a few types of data here: \n",
    "    * Explicit ratings \n",
    "    * Implicit feedback indicators (books marked to read)\n",
    "    * Tabular data or metadata (book info)\n",
    "    * Tags\n",
    "* Since we only need explicit ratings and book's metadata, so, we'll only load two kinds of data i.e. **ratings.csv** and **books.csv**\n",
    "    \n",
    "\n",
    "## 2. Spark Initialization"
   ]
  },
  {
   "cell_type": "code",
   "execution_count": 1,
   "metadata": {},
   "outputs": [],
   "source": [
    "# Import findspark to make pyspark importable as a regular library\n",
    "import findspark\n",
    "findspark.init()"
   ]
  },
  {
   "cell_type": "code",
   "execution_count": 2,
   "metadata": {},
   "outputs": [],
   "source": [
    "# Import SparkSession\n",
    "from pyspark.sql import SparkSession"
   ]
  },
  {
   "cell_type": "code",
   "execution_count": 3,
   "metadata": {},
   "outputs": [],
   "source": [
    "# Create Spark Session\n",
    "spark = SparkSession.builder.appName(\"Recommendation System\").getOrCreate()"
   ]
  },
  {
   "cell_type": "code",
   "execution_count": 4,
   "metadata": {},
   "outputs": [
    {
     "name": "stdout",
     "output_type": "stream",
     "text": [
      "<pyspark.sql.session.SparkSession object at 0x119567d30>\n"
     ]
    }
   ],
   "source": [
    "# Print spark object ID\n",
    "print(spark)"
   ]
  },
  {
   "cell_type": "markdown",
   "metadata": {},
   "source": [
    "## 3. Load Dataset\n",
    "### 3.1 Ratings"
   ]
  },
  {
   "cell_type": "code",
   "execution_count": 5,
   "metadata": {},
   "outputs": [
    {
     "name": "stdout",
     "output_type": "stream",
     "text": [
      "+-------+-------+------+\n",
      "|user_id|book_id|rating|\n",
      "+-------+-------+------+\n",
      "|      1|    258|     5|\n",
      "|      2|   4081|     4|\n",
      "|      2|    260|     5|\n",
      "|      2|   9296|     5|\n",
      "|      2|   2318|     3|\n",
      "|      2|     26|     4|\n",
      "|      2|    315|     3|\n",
      "|      2|     33|     4|\n",
      "|      2|    301|     5|\n",
      "|      2|   2686|     5|\n",
      "|      2|   3753|     5|\n",
      "|      2|   8519|     5|\n",
      "|      4|     70|     4|\n",
      "|      4|    264|     3|\n",
      "|      4|    388|     4|\n",
      "|      4|     18|     5|\n",
      "|      4|     27|     5|\n",
      "|      4|     21|     5|\n",
      "|      4|      2|     5|\n",
      "|      4|     23|     5|\n",
      "+-------+-------+------+\n",
      "only showing top 20 rows\n",
      "\n"
     ]
    }
   ],
   "source": [
    "# Load the dataset\n",
    "ratingsDF = spark.read.load(\"/Users/mocatfrio/Documents/dataset-bigdata/goodbooks-10k/ratings.csv\", format=\"csv\", sep=\",\", inferSchema=\"true\", header=\"true\")\n",
    "\n",
    "# Show dataset\n",
    "ratingsDF.show()"
   ]
  },
  {
   "cell_type": "code",
   "execution_count": 6,
   "metadata": {},
   "outputs": [
    {
     "name": "stdout",
     "output_type": "stream",
     "text": [
      "root\n",
      " |-- user_id: integer (nullable = true)\n",
      " |-- book_id: integer (nullable = true)\n",
      " |-- rating: integer (nullable = true)\n",
      "\n"
     ]
    }
   ],
   "source": [
    "ratingsDF.printSchema()"
   ]
  },
  {
   "cell_type": "code",
   "execution_count": 7,
   "metadata": {},
   "outputs": [
    {
     "data": {
      "text/plain": [
       "5976479"
      ]
     },
     "execution_count": 7,
     "metadata": {},
     "output_type": "execute_result"
    }
   ],
   "source": [
    "ratingsDF.count()"
   ]
  },
  {
   "cell_type": "markdown",
   "metadata": {},
   "source": [
    "### 3.2 Book's Metadata"
   ]
  },
  {
   "cell_type": "code",
   "execution_count": 8,
   "metadata": {},
   "outputs": [
    {
     "name": "stdout",
     "output_type": "stream",
     "text": [
      "+-------+-----------------+------------+--------+-----------+----------+----------------+------------------------------------------------------+-------------------------+-------------------------------------------------------------+-----------------------------------------------------------+-------------+--------------+-------------+------------------+-----------------------+---------+---------+---------+---------+---------+-----------------------------------------------------------+-----------------------------------------------------------+\n",
      "|book_id|goodreads_book_id|best_book_id|work_id |books_count|isbn      |isbn13          |authors                                               |original_publication_year|original_title                                               |title                                                      |language_code|average_rating|ratings_count|work_ratings_count|work_text_reviews_count|ratings_1|ratings_2|ratings_3|ratings_4|ratings_5|image_url                                                  |small_image_url                                            |\n",
      "+-------+-----------------+------------+--------+-----------+----------+----------------+------------------------------------------------------+-------------------------+-------------------------------------------------------------+-----------------------------------------------------------+-------------+--------------+-------------+------------------+-----------------------+---------+---------+---------+---------+---------+-----------------------------------------------------------+-----------------------------------------------------------+\n",
      "|1      |2767052          |2767052     |2792775 |272        |439023483 |9.78043902348E12|Suzanne Collins                                       |2008.0                   |The Hunger Games                                             |The Hunger Games (The Hunger Games, #1)                    |eng          |4.34          |4780653      |4942365           |155254                 |66715.0  |127936   |560092   |1481305  |2706317  |https://images.gr-assets.com/books/1447303603m/2767052.jpg |https://images.gr-assets.com/books/1447303603s/2767052.jpg |\n",
      "|2      |3                |3           |4640799 |491        |439554934 |9.78043955493E12|J.K. Rowling, Mary GrandPré                           |1997.0                   |Harry Potter and the Philosopher's Stone                     |Harry Potter and the Sorcerer's Stone (Harry Potter, #1)   |eng          |4.44          |4602479      |4800065           |75867                  |75504.0  |101676   |455024   |1156318  |3011543  |https://images.gr-assets.com/books/1474154022m/3.jpg       |https://images.gr-assets.com/books/1474154022s/3.jpg       |\n",
      "|3      |41865            |41865       |3212258 |226        |316015849 |9.78031601584E12|Stephenie Meyer                                       |2005.0                   |Twilight                                                     |Twilight (Twilight, #1)                                    |en-US        |3.57          |3866839      |3916824           |95009                  |456191.0 |436802   |793319   |875073   |1355439  |https://images.gr-assets.com/books/1361039443m/41865.jpg   |https://images.gr-assets.com/books/1361039443s/41865.jpg   |\n",
      "|4      |2657             |2657        |3275794 |487        |61120081  |9.78006112008E12|Harper Lee                                            |1960.0                   |To Kill a Mockingbird                                        |To Kill a Mockingbird                                      |eng          |4.25          |3198671      |3340896           |72586                  |60427.0  |117415   |446835   |1001952  |1714267  |https://images.gr-assets.com/books/1361975680m/2657.jpg    |https://images.gr-assets.com/books/1361975680s/2657.jpg    |\n",
      "|5      |4671             |4671        |245494  |1356       |743273567 |9.78074327356E12|F. Scott Fitzgerald                                   |1925.0                   |The Great Gatsby                                             |The Great Gatsby                                           |eng          |3.89          |2683664      |2773745           |51992                  |86236.0  |197621   |606158   |936012   |947718   |https://images.gr-assets.com/books/1490528560m/4671.jpg    |https://images.gr-assets.com/books/1490528560s/4671.jpg    |\n",
      "|6      |11870085         |11870085    |16827462|226        |525478817 |9.78052547881E12|John Green                                            |2012.0                   |The Fault in Our Stars                                       |The Fault in Our Stars                                     |eng          |4.26          |2346404      |2478609           |140739                 |47994.0  |92723    |327550   |698471   |1311871  |https://images.gr-assets.com/books/1360206420m/11870085.jpg|https://images.gr-assets.com/books/1360206420s/11870085.jpg|\n",
      "|7      |5907             |5907        |1540236 |969        |618260307 |9.7806182603E12 |J.R.R. Tolkien                                        |1937.0                   |The Hobbit or There and Back Again                           |The Hobbit                                                 |en-US        |4.25          |2071616      |2196809           |37653                  |46023.0  |76784    |288649   |665635   |1119718  |https://images.gr-assets.com/books/1372847500m/5907.jpg    |https://images.gr-assets.com/books/1372847500s/5907.jpg    |\n",
      "|8      |5107             |5107        |3036731 |360        |316769177 |9.78031676917E12|J.D. Salinger                                         |1951.0                   |The Catcher in the Rye                                       |The Catcher in the Rye                                     |eng          |3.79          |2044241      |2120637           |44920                  |109383.0 |185520   |455042   |661516   |709176   |https://images.gr-assets.com/books/1398034300m/5107.jpg    |https://images.gr-assets.com/books/1398034300s/5107.jpg    |\n",
      "|9      |960              |960         |3338963 |311        |1416524797|9.78141652479E12|Dan Brown                                             |2000.0                   |Angels & Demons                                              |Angels & Demons  (Robert Langdon, #1)                      |en-CA        |3.85          |2001311      |2078754           |25112                  |77841.0  |145740   |458429   |716569   |680175   |https://images.gr-assets.com/books/1303390735m/960.jpg     |https://images.gr-assets.com/books/1303390735s/960.jpg     |\n",
      "|10     |1885             |1885        |3060926 |3455       |679783261 |9.78067978327E12|Jane Austen                                           |1813.0                   |Pride and Prejudice                                          |Pride and Prejudice                                        |eng          |4.24          |2035490      |2191465           |49152                  |54700.0  |86485    |284852   |609755   |1155673  |https://images.gr-assets.com/books/1320399351m/1885.jpg    |https://images.gr-assets.com/books/1320399351s/1885.jpg    |\n",
      "|11     |77203            |77203       |3295919 |283        |1594480001|9.78159448E12   |Khaled Hosseini                                       |2003.0                   |The Kite Runner                                              |The Kite Runner                                            |eng          |4.26          |1813044      |1878095           |59730                  |34288.0  |59980    |226062   |628174   |929591   |https://images.gr-assets.com/books/1484565687m/77203.jpg   |https://images.gr-assets.com/books/1484565687s/77203.jpg   |\n",
      "|12     |13335037         |13335037    |13155899|210        |62024035  |9.78006202404E12|Veronica Roth                                         |2011.0                   |Divergent                                                    |Divergent (Divergent, #1)                                  |eng          |4.24          |1903563      |2216814           |101023                 |36315.0  |82870    |310297   |673028   |1114304  |https://images.gr-assets.com/books/1328559506m/13335037.jpg|https://images.gr-assets.com/books/1328559506s/13335037.jpg|\n",
      "|13     |5470             |5470        |153313  |995        |451524934 |9.78045152494E12|George Orwell, Erich Fromm, Celâl Üster               |1949.0                   |Nineteen Eighty-Four                                         |1984                                                       |eng          |4.14          |1956832      |2053394           |45518                  |41845.0  |86425    |324874   |692021   |908229   |https://images.gr-assets.com/books/1348990566m/5470.jpg    |https://images.gr-assets.com/books/1348990566s/5470.jpg    |\n",
      "|14     |7613             |7613        |2207778 |896        |452284244 |9.78045228424E12|George Orwell                                         |1945.0                   |Animal Farm: A Fairy Story                                   |Animal Farm                                                |eng          |3.87          |1881700      |1982987           |35472                  |66854.0  |135147   |433432   |698642   |648912   |https://images.gr-assets.com/books/1424037542m/7613.jpg    |https://images.gr-assets.com/books/1424037542s/7613.jpg    |\n",
      "|15     |48855            |48855       |3532896 |710        |553296981 |9.78055329698E12|Anne Frank, Eleanor Roosevelt, B.M. Mooyaart-Doubleday|1947.0                   |Het Achterhuis: Dagboekbrieven 14 juni 1942 - 1 augustus 1944|The Diary of a Young Girl                                  |eng          |4.1           |1972666      |2024493           |20825                  |45225.0  |91270    |355756   |656870   |875372   |https://images.gr-assets.com/books/1358276407m/48855.jpg   |https://images.gr-assets.com/books/1358276407s/48855.jpg   |\n",
      "|16     |2429135          |2429135     |1708725 |274        |307269752 |9.78030726975E12|Stieg Larsson, Reg Keeland                            |2005.0                   |Män som hatar kvinnor                                        |The Girl with the Dragon Tattoo (Millennium, #1)           |eng          |4.11          |1808403      |1929834           |62543                  |54835.0  |86051    |285413   |667485   |836050   |https://images.gr-assets.com/books/1327868566m/2429135.jpg |https://images.gr-assets.com/books/1327868566s/2429135.jpg |\n",
      "|17     |6148028          |6148028     |6171458 |201        |439023491 |9.7804390235E12 |Suzanne Collins                                       |2009.0                   |Catching Fire                                                |Catching Fire (The Hunger Games, #2)                       |eng          |4.3           |1831039      |1988079           |88538                  |10492.0  |48030    |262010   |687238   |980309   |https://images.gr-assets.com/books/1358273780m/6148028.jpg |https://images.gr-assets.com/books/1358273780s/6148028.jpg |\n",
      "|18     |5                |5           |2402163 |376        |043965548X|9.78043965548E12|J.K. Rowling, Mary GrandPré, Rufus Beck               |1999.0                   |Harry Potter and the Prisoner of Azkaban                     |Harry Potter and the Prisoner of Azkaban (Harry Potter, #3)|eng          |4.53          |1832823      |1969375           |36099                  |6716.0   |20413    |166129   |509447   |1266670  |https://images.gr-assets.com/books/1499277281m/5.jpg       |https://images.gr-assets.com/books/1499277281s/5.jpg       |\n",
      "|19     |34               |34          |3204327 |566        |618346252 |9.78061834626E12|J.R.R. Tolkien                                        |1954.0                   | The Fellowship of the Ring                                  |The Fellowship of the Ring (The Lord of the Rings, #1)     |eng          |4.34          |1766803      |1832541           |15333                  |38031.0  |55862    |202332   |493922   |1042394  |https://images.gr-assets.com/books/1298411339m/34.jpg      |https://images.gr-assets.com/books/1298411339s/34.jpg      |\n",
      "|20     |7260188          |7260188     |8812783 |239        |439023513 |9.78043902351E12|Suzanne Collins                                       |2010.0                   |Mockingjay                                                   |Mockingjay (The Hunger Games, #3)                          |eng          |4.03          |1719760      |1870748           |96274                  |30144.0  |110498   |373060   |618271   |738775   |https://images.gr-assets.com/books/1358275419m/7260188.jpg |https://images.gr-assets.com/books/1358275419s/7260188.jpg |\n",
      "+-------+-----------------+------------+--------+-----------+----------+----------------+------------------------------------------------------+-------------------------+-------------------------------------------------------------+-----------------------------------------------------------+-------------+--------------+-------------+------------------+-----------------------+---------+---------+---------+---------+---------+-----------------------------------------------------------+-----------------------------------------------------------+\n",
      "only showing top 20 rows\n",
      "\n"
     ]
    }
   ],
   "source": [
    "# Load the dataset\n",
    "booksDF = spark.read.load(\"/Users/mocatfrio/Documents/dataset-bigdata/goodbooks-10k/books.csv\", format=\"csv\", sep=\",\", inferSchema=\"true\", header=\"true\")\n",
    "\n",
    "# Show dataset\n",
    "booksDF.show(truncate=False)"
   ]
  },
  {
   "cell_type": "code",
   "execution_count": null,
   "metadata": {},
   "outputs": [
    {
     "name": "stdout",
     "output_type": "stream",
     "text": [
      "root\n",
      " |-- book_id: integer (nullable = true)\n",
      " |-- goodreads_book_id: integer (nullable = true)\n",
      " |-- best_book_id: integer (nullable = true)\n",
      " |-- work_id: integer (nullable = true)\n",
      " |-- books_count: integer (nullable = true)\n",
      " |-- isbn: string (nullable = true)\n",
      " |-- isbn13: double (nullable = true)\n",
      " |-- authors: string (nullable = true)\n",
      " |-- original_publication_year: double (nullable = true)\n",
      " |-- original_title: string (nullable = true)\n",
      " |-- title: string (nullable = true)\n",
      " |-- language_code: string (nullable = true)\n",
      " |-- average_rating: string (nullable = true)\n",
      " |-- ratings_count: string (nullable = true)\n",
      " |-- work_ratings_count: string (nullable = true)\n",
      " |-- work_text_reviews_count: string (nullable = true)\n",
      " |-- ratings_1: double (nullable = true)\n",
      " |-- ratings_2: integer (nullable = true)\n",
      " |-- ratings_3: integer (nullable = true)\n",
      " |-- ratings_4: integer (nullable = true)\n",
      " |-- ratings_5: integer (nullable = true)\n",
      " |-- image_url: string (nullable = true)\n",
      " |-- small_image_url: string (nullable = true)\n",
      "\n"
     ]
    }
   ],
   "source": [
    "booksDF.printSchema()"
   ]
  },
  {
   "cell_type": "code",
   "execution_count": null,
   "metadata": {},
   "outputs": [
    {
     "data": {
      "text/plain": [
       "10000"
      ]
     },
     "execution_count": 10,
     "metadata": {},
     "output_type": "execute_result"
    }
   ],
   "source": [
    "booksDF.count()"
   ]
  },
  {
   "cell_type": "markdown",
   "metadata": {},
   "source": [
    "## 4. Collaborative Filtering using ALS (Alternating Least Squares) Algorithm\n",
    "* **Collaborative filtering** is commonly used for recommender systems. These techniques aim to fill in the missing entries of a user-item association matrix. `spark.ml` uses the alternating least squares (ALS) algorithm to learn these latent factors. Then, we can evaluate the recommendation model by measuring the root-mean-square error of rating prediction. \n",
    "* ALS algorithm from Spark will process data that each row consisting of a user, a movie (or item), a rating and a timestamp. So, we don't need to preprocess data first because booksDF already fulfilled those requirements."
   ]
  },
  {
   "cell_type": "code",
   "execution_count": null,
   "metadata": {},
   "outputs": [],
   "source": [
    "# Import ALS algorithm\n",
    "from pyspark.ml.evaluation import RegressionEvaluator\n",
    "from pyspark.ml.recommendation import ALS\n",
    "from pyspark.sql import Row"
   ]
  },
  {
   "cell_type": "code",
   "execution_count": null,
   "metadata": {},
   "outputs": [],
   "source": [
    "# training and test\n",
    "(training, test) = ratingsDF.randomSplit([0.8, 0.2])"
   ]
  },
  {
   "cell_type": "code",
   "execution_count": null,
   "metadata": {},
   "outputs": [],
   "source": [
    "# Build the recommendation model using ALS on the training data\n",
    "# Note we set cold start strategy to 'drop' to ensure we don't get NaN evaluation metrics\n",
    "als = ALS(maxIter=5, regParam=0.01, userCol=\"user_id\", itemCol=\"book_id\", ratingCol=\"rating\",\n",
    "          coldStartStrategy=\"drop\")\n",
    "model = als.fit(training)"
   ]
  },
  {
   "cell_type": "code",
   "execution_count": null,
   "metadata": {},
   "outputs": [
    {
     "name": "stdout",
     "output_type": "stream",
     "text": [
      "Root-mean-square error = 0.842758951882525\n"
     ]
    }
   ],
   "source": [
    "# Evaluate the model by computing the RMSE on the test data\n",
    "predictions = model.transform(test)\n",
    "evaluator = RegressionEvaluator(metricName=\"rmse\", labelCol=\"rating\",\n",
    "                                predictionCol=\"prediction\")\n",
    "rmse = evaluator.evaluate(predictions)\n",
    "print(\"Root-mean-square error = \" + str(rmse))"
   ]
  },
  {
   "cell_type": "code",
   "execution_count": null,
   "metadata": {},
   "outputs": [],
   "source": [
    "# Generate top 10 books recommendations for each user\n",
    "userRecs = model.recommendForAllUsers(10)\n",
    "userRecs.show(truncate=False)"
   ]
  },
  {
   "cell_type": "code",
   "execution_count": null,
   "metadata": {},
   "outputs": [],
   "source": [
    "# Generate top 10 user recommendations for each book\n",
    "bookRecs = model.recommendForAllItems(10)\n",
    "bookRecs.show(truncate=False)"
   ]
  },
  {
   "cell_type": "code",
   "execution_count": null,
   "metadata": {},
   "outputs": [],
   "source": [
    "# Generate top 10 movie recommendations for a specified set of users\n",
    "users = ratingsDF.select(als.getUserCol()).distinct().limit(3)\n",
    "userSubsetRecs = model.recommendForUserSubset(users, 10)\n",
    "userSubsetRecs.show(truncate=False)"
   ]
  },
  {
   "cell_type": "code",
   "execution_count": null,
   "metadata": {},
   "outputs": [],
   "source": [
    "# Generate top 10 user recommendations for a specified set of movies\n",
    "movies = ratingsDF.select(als.getItemCol()).distinct().limit(3)\n",
    "movieSubSetRecs = model.recommendForItemSubset(movies, 10)\n",
    "movieSubSetRecs.show(truncate=False)"
   ]
  },
  {
   "cell_type": "markdown",
   "metadata": {},
   "source": [
    "## 6. References\n",
    "\n",
    "* https://spark.apache.org/docs/latest/ml-collaborative-filtering.html"
   ]
  }
 ],
 "metadata": {
  "kernelspec": {
   "display_name": "Python 3",
   "language": "python",
   "name": "python3"
  },
  "language_info": {
   "codemirror_mode": {
    "name": "ipython",
    "version": 3
   },
   "file_extension": ".py",
   "mimetype": "text/x-python",
   "name": "python",
   "nbconvert_exporter": "python",
   "pygments_lexer": "ipython3",
   "version": "3.7.3"
  }
 },
 "nbformat": 4,
 "nbformat_minor": 2
}

{
 "cells": [
  {
   "cell_type": "markdown",
   "metadata": {},
   "source": [
    "## Part 1\n",
    "# Assignment 04 - Recommendation System using Collaborative Filtering \n",
    "\n",
    "## 1. Spark Initialization"
   ]
  },
  {
   "cell_type": "code",
   "execution_count": 1,
   "metadata": {},
   "outputs": [],
   "source": [
    "# Import findspark to make pyspark importable as a regular library\n",
    "import findspark\n",
    "findspark.init()"
   ]
  },
  {
   "cell_type": "code",
   "execution_count": 2,
   "metadata": {},
   "outputs": [],
   "source": [
    "# Import SparkSession\n",
    "from pyspark.sql import SparkSession"
   ]
  },
  {
   "cell_type": "code",
   "execution_count": 3,
   "metadata": {},
   "outputs": [],
   "source": [
    "# Create Spark Session\n",
    "spark = SparkSession.builder.appName(\"Recommendation System\").getOrCreate()"
   ]
  },
  {
   "cell_type": "code",
   "execution_count": 4,
   "metadata": {},
   "outputs": [
    {
     "name": "stdout",
     "output_type": "stream",
     "text": [
      "<pyspark.sql.session.SparkSession object at 0x10bcdd860>\n"
     ]
    }
   ],
   "source": [
    "# Print spark object ID\n",
    "print(spark)"
   ]
  },
  {
   "cell_type": "markdown",
   "metadata": {},
   "source": [
    "## 2. Load Dataset\n",
    "### 2.1 Ratings Data"
   ]
  },
  {
   "cell_type": "code",
   "execution_count": 5,
   "metadata": {},
   "outputs": [],
   "source": [
    "# Load the dataset\n",
    "ratings_file = \"/Users/mocatfrio/Documents/big-data/recommendation-system/flask-app/csv/ratings.csv\"\n",
    "ratings_df = spark.read.load(ratings_file, format=\"csv\", sep=\",\", inferSchema=\"true\", header=\"true\")"
   ]
  },
  {
   "cell_type": "code",
   "execution_count": 6,
   "metadata": {},
   "outputs": [
    {
     "name": "stdout",
     "output_type": "stream",
     "text": [
      "+-------+-------+------+\n",
      "|user_id|book_id|rating|\n",
      "+-------+-------+------+\n",
      "|      1|    258|     5|\n",
      "|      2|   4081|     4|\n",
      "|      2|    260|     5|\n",
      "|      2|   9296|     5|\n",
      "|      2|   2318|     3|\n",
      "|      2|     26|     4|\n",
      "|      2|    315|     3|\n",
      "|      2|     33|     4|\n",
      "|      2|    301|     5|\n",
      "|      2|   2686|     5|\n",
      "|      2|   3753|     5|\n",
      "|      2|   8519|     5|\n",
      "|      4|     70|     4|\n",
      "|      4|    264|     3|\n",
      "|      4|    388|     4|\n",
      "|      4|     18|     5|\n",
      "|      4|     27|     5|\n",
      "|      4|     21|     5|\n",
      "|      4|      2|     5|\n",
      "|      4|     23|     5|\n",
      "+-------+-------+------+\n",
      "only showing top 20 rows\n",
      "\n"
     ]
    }
   ],
   "source": [
    "# Show dataset\n",
    "ratings_df.show()"
   ]
  },
  {
   "cell_type": "code",
   "execution_count": 7,
   "metadata": {},
   "outputs": [
    {
     "name": "stdout",
     "output_type": "stream",
     "text": [
      "root\n",
      " |-- user_id: integer (nullable = true)\n",
      " |-- book_id: integer (nullable = true)\n",
      " |-- rating: integer (nullable = true)\n",
      "\n"
     ]
    }
   ],
   "source": [
    "ratings_df.printSchema()"
   ]
  },
  {
   "cell_type": "code",
   "execution_count": 8,
   "metadata": {},
   "outputs": [
    {
     "data": {
      "text/plain": [
       "5976479"
      ]
     },
     "execution_count": 8,
     "metadata": {},
     "output_type": "execute_result"
    }
   ],
   "source": [
    "ratings_df.count()"
   ]
  },
  {
   "cell_type": "markdown",
   "metadata": {},
   "source": [
    "### 2.2 Books Data"
   ]
  },
  {
   "cell_type": "code",
   "execution_count": 9,
   "metadata": {},
   "outputs": [],
   "source": [
    "# Load the dataset\n",
    "books_file = \"/Users/mocatfrio/Documents/big-data/recommendation-system/flask-app/csv/books.csv\"\n",
    "books_df = spark.read.load(books_file, format=\"csv\", sep=\",\", inferSchema=\"true\", header=\"true\")"
   ]
  },
  {
   "cell_type": "code",
   "execution_count": 10,
   "metadata": {},
   "outputs": [
    {
     "name": "stdout",
     "output_type": "stream",
     "text": [
      "+-------+-----------------+------------+--------+-----------+----------+----------------+------------------------------------------------------+-------------------------+-------------------------------------------------------------+-----------------------------------------------------------+-------------+--------------+-------------+------------------+-----------------------+---------+---------+---------+---------+---------+-----------------------------------------------------------+-----------------------------------------------------------+\n",
      "|book_id|goodreads_book_id|best_book_id|work_id |books_count|isbn      |isbn13          |authors                                               |original_publication_year|original_title                                               |title                                                      |language_code|average_rating|ratings_count|work_ratings_count|work_text_reviews_count|ratings_1|ratings_2|ratings_3|ratings_4|ratings_5|image_url                                                  |small_image_url                                            |\n",
      "+-------+-----------------+------------+--------+-----------+----------+----------------+------------------------------------------------------+-------------------------+-------------------------------------------------------------+-----------------------------------------------------------+-------------+--------------+-------------+------------------+-----------------------+---------+---------+---------+---------+---------+-----------------------------------------------------------+-----------------------------------------------------------+\n",
      "|1      |2767052          |2767052     |2792775 |272        |439023483 |9.78043902348E12|Suzanne Collins                                       |2008.0                   |The Hunger Games                                             |The Hunger Games (The Hunger Games, #1)                    |eng          |4.34          |4780653      |4942365           |155254                 |66715.0  |127936   |560092   |1481305  |2706317  |https://images.gr-assets.com/books/1447303603m/2767052.jpg |https://images.gr-assets.com/books/1447303603s/2767052.jpg |\n",
      "|2      |3                |3           |4640799 |491        |439554934 |9.78043955493E12|J.K. Rowling, Mary GrandPré                           |1997.0                   |Harry Potter and the Philosopher's Stone                     |Harry Potter and the Sorcerer's Stone (Harry Potter, #1)   |eng          |4.44          |4602479      |4800065           |75867                  |75504.0  |101676   |455024   |1156318  |3011543  |https://images.gr-assets.com/books/1474154022m/3.jpg       |https://images.gr-assets.com/books/1474154022s/3.jpg       |\n",
      "|3      |41865            |41865       |3212258 |226        |316015849 |9.78031601584E12|Stephenie Meyer                                       |2005.0                   |Twilight                                                     |Twilight (Twilight, #1)                                    |en-US        |3.57          |3866839      |3916824           |95009                  |456191.0 |436802   |793319   |875073   |1355439  |https://images.gr-assets.com/books/1361039443m/41865.jpg   |https://images.gr-assets.com/books/1361039443s/41865.jpg   |\n",
      "|4      |2657             |2657        |3275794 |487        |61120081  |9.78006112008E12|Harper Lee                                            |1960.0                   |To Kill a Mockingbird                                        |To Kill a Mockingbird                                      |eng          |4.25          |3198671      |3340896           |72586                  |60427.0  |117415   |446835   |1001952  |1714267  |https://images.gr-assets.com/books/1361975680m/2657.jpg    |https://images.gr-assets.com/books/1361975680s/2657.jpg    |\n",
      "|5      |4671             |4671        |245494  |1356       |743273567 |9.78074327356E12|F. Scott Fitzgerald                                   |1925.0                   |The Great Gatsby                                             |The Great Gatsby                                           |eng          |3.89          |2683664      |2773745           |51992                  |86236.0  |197621   |606158   |936012   |947718   |https://images.gr-assets.com/books/1490528560m/4671.jpg    |https://images.gr-assets.com/books/1490528560s/4671.jpg    |\n",
      "|6      |11870085         |11870085    |16827462|226        |525478817 |9.78052547881E12|John Green                                            |2012.0                   |The Fault in Our Stars                                       |The Fault in Our Stars                                     |eng          |4.26          |2346404      |2478609           |140739                 |47994.0  |92723    |327550   |698471   |1311871  |https://images.gr-assets.com/books/1360206420m/11870085.jpg|https://images.gr-assets.com/books/1360206420s/11870085.jpg|\n",
      "|7      |5907             |5907        |1540236 |969        |618260307 |9.7806182603E12 |J.R.R. Tolkien                                        |1937.0                   |The Hobbit or There and Back Again                           |The Hobbit                                                 |en-US        |4.25          |2071616      |2196809           |37653                  |46023.0  |76784    |288649   |665635   |1119718  |https://images.gr-assets.com/books/1372847500m/5907.jpg    |https://images.gr-assets.com/books/1372847500s/5907.jpg    |\n",
      "|8      |5107             |5107        |3036731 |360        |316769177 |9.78031676917E12|J.D. Salinger                                         |1951.0                   |The Catcher in the Rye                                       |The Catcher in the Rye                                     |eng          |3.79          |2044241      |2120637           |44920                  |109383.0 |185520   |455042   |661516   |709176   |https://images.gr-assets.com/books/1398034300m/5107.jpg    |https://images.gr-assets.com/books/1398034300s/5107.jpg    |\n",
      "|9      |960              |960         |3338963 |311        |1416524797|9.78141652479E12|Dan Brown                                             |2000.0                   |Angels & Demons                                              |Angels & Demons  (Robert Langdon, #1)                      |en-CA        |3.85          |2001311      |2078754           |25112                  |77841.0  |145740   |458429   |716569   |680175   |https://images.gr-assets.com/books/1303390735m/960.jpg     |https://images.gr-assets.com/books/1303390735s/960.jpg     |\n",
      "|10     |1885             |1885        |3060926 |3455       |679783261 |9.78067978327E12|Jane Austen                                           |1813.0                   |Pride and Prejudice                                          |Pride and Prejudice                                        |eng          |4.24          |2035490      |2191465           |49152                  |54700.0  |86485    |284852   |609755   |1155673  |https://images.gr-assets.com/books/1320399351m/1885.jpg    |https://images.gr-assets.com/books/1320399351s/1885.jpg    |\n",
      "|11     |77203            |77203       |3295919 |283        |1594480001|9.78159448E12   |Khaled Hosseini                                       |2003.0                   |The Kite Runner                                              |The Kite Runner                                            |eng          |4.26          |1813044      |1878095           |59730                  |34288.0  |59980    |226062   |628174   |929591   |https://images.gr-assets.com/books/1484565687m/77203.jpg   |https://images.gr-assets.com/books/1484565687s/77203.jpg   |\n",
      "|12     |13335037         |13335037    |13155899|210        |62024035  |9.78006202404E12|Veronica Roth                                         |2011.0                   |Divergent                                                    |Divergent (Divergent, #1)                                  |eng          |4.24          |1903563      |2216814           |101023                 |36315.0  |82870    |310297   |673028   |1114304  |https://images.gr-assets.com/books/1328559506m/13335037.jpg|https://images.gr-assets.com/books/1328559506s/13335037.jpg|\n",
      "|13     |5470             |5470        |153313  |995        |451524934 |9.78045152494E12|George Orwell, Erich Fromm, Celâl Üster               |1949.0                   |Nineteen Eighty-Four                                         |1984                                                       |eng          |4.14          |1956832      |2053394           |45518                  |41845.0  |86425    |324874   |692021   |908229   |https://images.gr-assets.com/books/1348990566m/5470.jpg    |https://images.gr-assets.com/books/1348990566s/5470.jpg    |\n",
      "|14     |7613             |7613        |2207778 |896        |452284244 |9.78045228424E12|George Orwell                                         |1945.0                   |Animal Farm: A Fairy Story                                   |Animal Farm                                                |eng          |3.87          |1881700      |1982987           |35472                  |66854.0  |135147   |433432   |698642   |648912   |https://images.gr-assets.com/books/1424037542m/7613.jpg    |https://images.gr-assets.com/books/1424037542s/7613.jpg    |\n",
      "|15     |48855            |48855       |3532896 |710        |553296981 |9.78055329698E12|Anne Frank, Eleanor Roosevelt, B.M. Mooyaart-Doubleday|1947.0                   |Het Achterhuis: Dagboekbrieven 14 juni 1942 - 1 augustus 1944|The Diary of a Young Girl                                  |eng          |4.1           |1972666      |2024493           |20825                  |45225.0  |91270    |355756   |656870   |875372   |https://images.gr-assets.com/books/1358276407m/48855.jpg   |https://images.gr-assets.com/books/1358276407s/48855.jpg   |\n",
      "|16     |2429135          |2429135     |1708725 |274        |307269752 |9.78030726975E12|Stieg Larsson, Reg Keeland                            |2005.0                   |Män som hatar kvinnor                                        |The Girl with the Dragon Tattoo (Millennium, #1)           |eng          |4.11          |1808403      |1929834           |62543                  |54835.0  |86051    |285413   |667485   |836050   |https://images.gr-assets.com/books/1327868566m/2429135.jpg |https://images.gr-assets.com/books/1327868566s/2429135.jpg |\n",
      "|17     |6148028          |6148028     |6171458 |201        |439023491 |9.7804390235E12 |Suzanne Collins                                       |2009.0                   |Catching Fire                                                |Catching Fire (The Hunger Games, #2)                       |eng          |4.3           |1831039      |1988079           |88538                  |10492.0  |48030    |262010   |687238   |980309   |https://images.gr-assets.com/books/1358273780m/6148028.jpg |https://images.gr-assets.com/books/1358273780s/6148028.jpg |\n",
      "|18     |5                |5           |2402163 |376        |043965548X|9.78043965548E12|J.K. Rowling, Mary GrandPré, Rufus Beck               |1999.0                   |Harry Potter and the Prisoner of Azkaban                     |Harry Potter and the Prisoner of Azkaban (Harry Potter, #3)|eng          |4.53          |1832823      |1969375           |36099                  |6716.0   |20413    |166129   |509447   |1266670  |https://images.gr-assets.com/books/1499277281m/5.jpg       |https://images.gr-assets.com/books/1499277281s/5.jpg       |\n",
      "|19     |34               |34          |3204327 |566        |618346252 |9.78061834626E12|J.R.R. Tolkien                                        |1954.0                   | The Fellowship of the Ring                                  |The Fellowship of the Ring (The Lord of the Rings, #1)     |eng          |4.34          |1766803      |1832541           |15333                  |38031.0  |55862    |202332   |493922   |1042394  |https://images.gr-assets.com/books/1298411339m/34.jpg      |https://images.gr-assets.com/books/1298411339s/34.jpg      |\n",
      "|20     |7260188          |7260188     |8812783 |239        |439023513 |9.78043902351E12|Suzanne Collins                                       |2010.0                   |Mockingjay                                                   |Mockingjay (The Hunger Games, #3)                          |eng          |4.03          |1719760      |1870748           |96274                  |30144.0  |110498   |373060   |618271   |738775   |https://images.gr-assets.com/books/1358275419m/7260188.jpg |https://images.gr-assets.com/books/1358275419s/7260188.jpg |\n",
      "+-------+-----------------+------------+--------+-----------+----------+----------------+------------------------------------------------------+-------------------------+-------------------------------------------------------------+-----------------------------------------------------------+-------------+--------------+-------------+------------------+-----------------------+---------+---------+---------+---------+---------+-----------------------------------------------------------+-----------------------------------------------------------+\n",
      "only showing top 20 rows\n",
      "\n"
     ]
    }
   ],
   "source": [
    "# Show dataset\n",
    "books_df.show(truncate=False)"
   ]
  },
  {
   "cell_type": "code",
   "execution_count": 11,
   "metadata": {},
   "outputs": [
    {
     "name": "stdout",
     "output_type": "stream",
     "text": [
      "root\n",
      " |-- book_id: integer (nullable = true)\n",
      " |-- goodreads_book_id: integer (nullable = true)\n",
      " |-- best_book_id: integer (nullable = true)\n",
      " |-- work_id: integer (nullable = true)\n",
      " |-- books_count: integer (nullable = true)\n",
      " |-- isbn: string (nullable = true)\n",
      " |-- isbn13: double (nullable = true)\n",
      " |-- authors: string (nullable = true)\n",
      " |-- original_publication_year: double (nullable = true)\n",
      " |-- original_title: string (nullable = true)\n",
      " |-- title: string (nullable = true)\n",
      " |-- language_code: string (nullable = true)\n",
      " |-- average_rating: string (nullable = true)\n",
      " |-- ratings_count: string (nullable = true)\n",
      " |-- work_ratings_count: string (nullable = true)\n",
      " |-- work_text_reviews_count: string (nullable = true)\n",
      " |-- ratings_1: double (nullable = true)\n",
      " |-- ratings_2: integer (nullable = true)\n",
      " |-- ratings_3: integer (nullable = true)\n",
      " |-- ratings_4: integer (nullable = true)\n",
      " |-- ratings_5: integer (nullable = true)\n",
      " |-- image_url: string (nullable = true)\n",
      " |-- small_image_url: string (nullable = true)\n",
      "\n"
     ]
    }
   ],
   "source": [
    "books_df.printSchema()"
   ]
  },
  {
   "cell_type": "code",
   "execution_count": 12,
   "metadata": {},
   "outputs": [
    {
     "data": {
      "text/plain": [
       "10000"
      ]
     },
     "execution_count": 12,
     "metadata": {},
     "output_type": "execute_result"
    }
   ],
   "source": [
    "books_df.count()"
   ]
  },
  {
   "cell_type": "markdown",
   "metadata": {},
   "source": [
    "## 3. Collaborative Filtering using ALS (Alternating Least Squares) Algorithm\n",
    "* **Collaborative filtering** is commonly used for recommender systems. These techniques aim to fill in the missing entries of a user-item association matrix. `spark.ml` library uses the **Alternating least squares (ALS) algorithm** to learn these latent factors. We can evaluate the recommendation model by measuring the root-mean-square error of rating prediction. \n",
    "* ALS algorithm from Spark will process data that each row consisting of a user, a movie (or item), and a rating. So, we don't need to preprocess data first because booksDF already fulfilled those requirements."
   ]
  },
  {
   "cell_type": "code",
   "execution_count": 13,
   "metadata": {},
   "outputs": [],
   "source": [
    "# Import ALS algorithm\n",
    "from pyspark.ml.evaluation import RegressionEvaluator\n",
    "from pyspark.ml.recommendation import ALS\n",
    "from pyspark.sql import Row"
   ]
  },
  {
   "cell_type": "code",
   "execution_count": 14,
   "metadata": {},
   "outputs": [],
   "source": [
    "# Split ratings data become training set and test set\n",
    "(training, test) = ratings_df.randomSplit([0.8, 0.2])"
   ]
  },
  {
   "cell_type": "code",
   "execution_count": 15,
   "metadata": {},
   "outputs": [],
   "source": [
    "# Build the recommendation model using ALS on the training data\n",
    "# Note we set cold start strategy to 'drop' to ensure we don't get NaN evaluation metrics\n",
    "als = ALS(maxIter=5, regParam=0.01, userCol=\"user_id\", itemCol=\"book_id\", ratingCol=\"rating\",\n",
    "          coldStartStrategy=\"drop\")\n",
    "model = als.fit(training)"
   ]
  },
  {
   "cell_type": "code",
   "execution_count": 16,
   "metadata": {},
   "outputs": [
    {
     "name": "stdout",
     "output_type": "stream",
     "text": [
      "Root-mean-square error = 0.8372556230095466\n"
     ]
    }
   ],
   "source": [
    "# Evaluate the model by computing the RMSE on the test data\n",
    "predictions = model.transform(test)\n",
    "evaluator = RegressionEvaluator(metricName=\"rmse\", labelCol=\"rating\",\n",
    "                                predictionCol=\"prediction\")\n",
    "rmse = evaluator.evaluate(predictions)\n",
    "print(\"Root-mean-square error = \" + str(rmse))"
   ]
  },
  {
   "cell_type": "code",
   "execution_count": 17,
   "metadata": {},
   "outputs": [
    {
     "name": "stdout",
     "output_type": "stream",
     "text": [
      "+-------+-------------------------------------------------------------------------------------------------------------------------------------------------------------------------------------------+\n",
      "|user_id|recommendations                                                                                                                                                                            |\n",
      "+-------+-------------------------------------------------------------------------------------------------------------------------------------------------------------------------------------------+\n",
      "|148    |[[7913, 4.9231935], [8233, 4.6173744], [9842, 4.589587], [7593, 4.5557823], [8548, 4.530573], [9531, 4.5245495], [5978, 4.514138], [7401, 4.498357], [9569, 4.4904485], [7803, 4.4813657]] |\n",
      "|463    |[[9418, 6.085741], [8601, 6.002691], [9682, 5.900895], [9806, 5.781508], [9073, 5.7021027], [7245, 5.616987], [8455, 5.587755], [5978, 5.5631685], [8827, 5.556246], [5897, 5.544558]]     |\n",
      "|471    |[[8533, 5.072601], [9531, 4.9532895], [8555, 4.9097614], [9664, 4.8650246], [3719, 4.8287463], [8063, 4.79873], [9404, 4.7846704], [7844, 4.7802963], [7529, 4.7690616], [7806, 4.757391]] |\n",
      "|496    |[[4339, 5.8184237], [4659, 5.81245], [5025, 5.790108], [7157, 5.7054653], [7342, 5.697892], [9418, 5.627105], [8573, 5.5952005], [3447, 5.5256004], [2282, 5.511266], [6210, 5.478193]]    |\n",
      "|833    |[[8946, 6.22108], [7677, 6.094153], [9934, 6.0920997], [4943, 5.803893], [7419, 5.7325096], [3368, 5.644287], [7881, 5.6140013], [9918, 5.5961113], [7947, 5.51362], [6312, 5.4703274]]    |\n",
      "|1088   |[[7485, 6.067842], [8326, 5.820494], [9918, 5.736448], [9779, 5.499823], [9228, 5.41238], [7401, 5.3882675], [6326, 5.3457456], [9378, 5.3133297], [8233, 5.3086605], [7913, 5.291055]]    |\n",
      "|1238   |[[9036, 5.9933963], [9936, 5.9453516], [8533, 5.661634], [5783, 5.5692167], [9402, 5.432431], [5353, 5.42244], [3836, 5.3305902], [6626, 5.204727], [9214, 5.1820793], [8239, 5.1321135]]  |\n",
      "|1342   |[[8946, 6.1235685], [4943, 5.6516814], [9918, 5.5826383], [6312, 5.3807178], [9228, 5.3147373], [7639, 5.2318983], [3110, 5.1530957], [9161, 5.136831], [9090, 5.128437], [7894, 5.10948]] |\n",
      "|1580   |[[9918, 5.61707], [8703, 5.5557356], [8533, 5.38871], [7844, 5.2646084], [9036, 5.2417045], [9071, 5.1399784], [3836, 5.1153626], [7440, 5.1114545], [9061, 5.098318], [9114, 5.0831666]]  |\n",
      "|1591   |[[7913, 5.687884], [7401, 5.5596313], [7947, 5.5333924], [7485, 5.382758], [5053, 5.286808], [9008, 5.2862024], [8606, 5.277376], [7305, 5.2605963], [4778, 5.2315946], [7685, 5.203264]]  |\n",
      "|1645   |[[9214, 6.6902037], [8948, 6.419339], [9219, 6.396755], [9505, 5.8971696], [8063, 5.783543], [8438, 5.732564], [9997, 5.716287], [8567, 5.685059], [9899, 5.653494], [8926, 5.619613]]     |\n",
      "|1829   |[[9779, 6.084919], [6312, 5.7774873], [7485, 5.7396293], [9918, 5.7356906], [7947, 5.6957064], [9934, 5.6532335], [9245, 5.5522795], [9392, 5.527217], [9260, 5.484968], [8326, 5.476284]] |\n",
      "|1959   |[[9092, 4.0582128], [7807, 4.03027], [8567, 4.0286946], [8088, 4.020659], [7217, 3.9448974], [8321, 3.922904], [8057, 3.8699856], [8415, 3.8226922], [9503, 3.8159997], [6444, 3.7949302]] |\n",
      "|2122   |[[7485, 5.1923747], [7401, 5.1175623], [8233, 5.0947037], [9392, 5.0157943], [7537, 4.802774], [9988, 4.7969112], [7947, 4.721483], [9531, 4.662748], [8606, 4.6366143], [7068, 4.6303806]]|\n",
      "|2142   |[[9392, 6.0530252], [7054, 5.9969387], [6312, 5.8417745], [9228, 5.8122907], [9518, 5.706578], [6971, 5.680452], [7485, 5.6707897], [9531, 5.663209], [8640, 5.618509], [6652, 5.6052117]] |\n",
      "|2366   |[[6089, 6.9362845], [8182, 6.73452], [9354, 6.630541], [9932, 6.6015234], [9806, 6.576799], [4601, 6.4950056], [8079, 6.4686513], [9275, 6.446092], [4462, 6.436429], [8455, 6.4125514]]   |\n",
      "|2659   |[[8567, 5.4758177], [7807, 5.3563867], [9092, 5.307325], [7217, 5.2954726], [5102, 5.257172], [7947, 5.194529], [9219, 5.1383624], [9932, 5.1267214], [8321, 5.064165], [6444, 4.977372]]  |\n",
      "|2866   |[[9962, 6.7272806], [8703, 6.722725], [8559, 6.5539045], [6062, 6.5340133], [9779, 6.099257], [6032, 6.096248], [7677, 6.089914], [8879, 5.9876733], [9563, 5.922654], [8224, 5.888896]]   |\n",
      "|3175   |[[9934, 6.342599], [7731, 5.769694], [9842, 5.7638135], [6312, 5.6860633], [8964, 5.6156096], [8801, 5.575149], [7264, 5.57391], [9102, 5.5359426], [7559, 5.53579], [7929, 5.5279784]]    |\n",
      "|3749   |[[9354, 4.691655], [9589, 4.5307994], [9798, 4.529598], [8944, 4.473303], [9503, 4.457921], [8498, 4.4165993], [9360, 4.3867197], [9629, 4.3833776], [9923, 4.3427095], [9081, 4.3409324]] |\n",
      "+-------+-------------------------------------------------------------------------------------------------------------------------------------------------------------------------------------------+\n",
      "only showing top 20 rows\n",
      "\n"
     ]
    }
   ],
   "source": [
    "# Generate top 10 books recommendations for each user\n",
    "userRecs = model.recommendForAllUsers(10)\n",
    "userRecs.show(truncate=False)"
   ]
  },
  {
   "cell_type": "code",
   "execution_count": 18,
   "metadata": {},
   "outputs": [
    {
     "name": "stdout",
     "output_type": "stream",
     "text": [
      "+-------+-----------------------------------------------------------------------------------------------------------------------------------------------------------------------------------------------------+\n",
      "|book_id|recommendations                                                                                                                                                                                      |\n",
      "+-------+-----------------------------------------------------------------------------------------------------------------------------------------------------------------------------------------------------+\n",
      "|1580   |[[40668, 5.8876557], [32085, 5.607617], [41174, 5.5197353], [8211, 5.511538], [17265, 5.494228], [38076, 5.4850326], [39052, 5.422405], [40526, 5.3720927], [42544, 5.335964], [20411, 5.31097]]     |\n",
      "|4900   |[[43675, 6.451187], [46765, 6.3850846], [29476, 6.2075367], [29996, 6.1975913], [30178, 6.1287475], [48687, 6.115594], [44668, 6.098499], [21562, 6.0251055], [16530, 6.005267], [52702, 5.9638805]] |\n",
      "|5300   |[[48681, 6.733445], [5959, 5.669764], [15863, 5.545547], [48087, 5.451333], [46396, 5.4489546], [14027, 5.3806524], [30616, 5.324795], [15453, 5.32424], [52273, 5.3214836], [23453, 5.308611]]      |\n",
      "|6620   |[[48687, 8.152497], [22180, 7.942323], [20248, 6.6625266], [48274, 6.658888], [45051, 6.625454], [27699, 6.4214797], [30639, 6.4130793], [34829, 6.4120183], [13227, 6.3821673], [45202, 6.377911]]  |\n",
      "|7240   |[[22180, 7.6177163], [48687, 6.9320025], [39784, 6.693585], [33901, 6.6533384], [10004, 6.4928956], [7079, 6.4256315], [19653, 6.421516], [52688, 6.411411], [37163, 6.3592987], [39323, 6.314863]]  |\n",
      "|7340   |[[21671, 7.0512156], [33901, 6.773799], [27067, 6.668023], [53344, 6.5968494], [44119, 6.583741], [13219, 6.5717845], [42875, 6.3860254], [31112, 6.378952], [40619, 6.344856], [17923, 6.3119273]]  |\n",
      "|7880   |[[44119, 6.648004], [5129, 6.515674], [35792, 6.40823], [17278, 6.403576], [25295, 6.384791], [42661, 6.384309], [40145, 6.3043966], [31813, 6.1212845], [33788, 6.0826397], [30651, 6.061526]]      |\n",
      "|9900   |[[44240, 8.166996], [14740, 6.5726776], [2170, 6.4763517], [44486, 6.466242], [20913, 6.435329], [14045, 6.428131], [49377, 6.387987], [8211, 6.335048], [38793, 6.3255672], [10835, 6.311082]]      |\n",
      "|471    |[[44119, 5.759254], [40668, 5.691053], [20313, 5.6232214], [9530, 5.6173387], [29838, 5.541521], [46914, 5.5317917], [20796, 5.4254336], [22180, 5.3727074], [10353, 5.357664], [14157, 5.351783]]   |\n",
      "|1591   |[[34036, 6.43913], [38367, 6.082012], [26199, 5.891365], [20796, 5.8286266], [48681, 5.823764], [26995, 5.7938223], [20338, 5.7579823], [44119, 5.7115827], [41375, 5.63954], [51689, 5.6173987]]    |\n",
      "|4101   |[[27675, 5.999761], [12440, 5.986578], [40901, 5.8982077], [16530, 5.8770256], [28547, 5.8566895], [22180, 5.833057], [31863, 5.8091536], [36281, 5.775066], [20961, 5.721966], [11706, 5.694223]]   |\n",
      "|1342   |[[48681, 7.3784537], [45939, 6.3237762], [49868, 6.2717204], [33901, 6.248782], [41667, 6.233385], [22180, 6.170473], [20992, 6.164272], [26909, 6.1338005], [21671, 6.131071], [13782, 6.1105657]]  |\n",
      "|2122   |[[41388, 5.1566057], [39805, 5.1220717], [41375, 5.1092677], [44398, 5.105461], [22180, 5.0860863], [10835, 5.0794344], [49489, 5.0742087], [51193, 5.073135], [26743, 5.066075], [26361, 5.04972]]  |\n",
      "|2142   |[[40668, 6.461544], [42544, 6.3050637], [45628, 6.199746], [34036, 6.1381516], [35709, 6.1267443], [40526, 6.1183352], [40026, 6.0962234], [42394, 6.0418777], [30616, 5.9110866], [20796, 5.904322]]|\n",
      "|7982   |[[22180, 6.561689], [14027, 6.453718], [26743, 6.406785], [2210, 6.018564], [16990, 6.0071535], [15951, 5.997726], [14074, 5.9876103], [45537, 5.9158382], [39784, 5.8869534], [52991, 5.879472]]    |\n",
      "|8592   |[[48681, 8.258619], [53349, 7.853158], [8057, 7.2408233], [21328, 6.917515], [38842, 6.786583], [9381, 6.7516203], [19534, 6.6906843], [27524, 6.639556], [30067, 6.5947847], [11309, 6.5745068]]    |\n",
      "|9852   |[[7079, 6.381862], [48687, 6.339254], [50608, 5.982063], [39784, 5.9020305], [52688, 5.8655577], [34702, 5.760791], [27067, 5.651163], [26766, 5.5567183], [13213, 5.54493], [19653, 5.5433455]]     |\n",
      "|463    |[[22180, 6.8956666], [9381, 6.80489], [48681, 6.731417], [47757, 6.479764], [38985, 6.4326506], [46846, 6.417737], [38372, 6.372564], [52765, 6.3470836], [50136, 6.2611837], [38793, 6.258281]]     |\n",
      "|833    |[[48687, 6.180944], [13213, 6.0568204], [39784, 6.0303173], [42063, 6.020774], [7079, 5.979047], [26743, 5.9765935], [2210, 5.950061], [50608, 5.8735137], [3987, 5.7830577], [35183, 5.685962]]     |\n",
      "|5803   |[[10369, 9.495825], [8384, 9.401928], [52237, 9.286158], [40801, 9.21412], [51314, 8.944364], [21671, 8.6728525], [53349, 8.539841], [35442, 8.51943], [48681, 8.302847], [13473, 8.143231]]         |\n",
      "+-------+-----------------------------------------------------------------------------------------------------------------------------------------------------------------------------------------------------+\n",
      "only showing top 20 rows\n",
      "\n"
     ]
    }
   ],
   "source": [
    "# Generate top 10 user recommendations for each book\n",
    "bookRecs = model.recommendForAllItems(10)\n",
    "bookRecs.show(truncate=False)"
   ]
  },
  {
   "cell_type": "code",
   "execution_count": 19,
   "metadata": {},
   "outputs": [
    {
     "name": "stdout",
     "output_type": "stream",
     "text": [
      "+-------+-----------------------------------------------------------------------------------------------------------------------------------------------------------------------------------------+\n",
      "|user_id|recommendations                                                                                                                                                                          |\n",
      "+-------+-----------------------------------------------------------------------------------------------------------------------------------------------------------------------------------------+\n",
      "|1580   |[[9918, 5.61707], [8703, 5.5557356], [8533, 5.38871], [7844, 5.2646084], [9036, 5.2417045], [9071, 5.1399784], [3836, 5.1153626], [7440, 5.1114545], [9061, 5.098318], [9114, 5.0831666]]|\n",
      "|463    |[[9418, 6.085741], [8601, 6.002691], [9682, 5.900895], [9806, 5.781508], [9073, 5.7021027], [7245, 5.616987], [8455, 5.587755], [5978, 5.5631685], [8827, 5.556246], [5897, 5.544558]]   |\n",
      "|1238   |[[9036, 5.9933963], [9936, 5.9453516], [8533, 5.661634], [5783, 5.5692167], [9402, 5.432431], [5353, 5.42244], [3836, 5.3305902], [6626, 5.204727], [9214, 5.1820793], [8239, 5.1321135]]|\n",
      "+-------+-----------------------------------------------------------------------------------------------------------------------------------------------------------------------------------------+\n",
      "\n"
     ]
    }
   ],
   "source": [
    "# Generate top 10 movie recommendations for a specified set of users\n",
    "users = ratings_df.select(als.getUserCol()).distinct().limit(3)\n",
    "userSubsetRecs = model.recommendForUserSubset(users, 10)\n",
    "userSubsetRecs.show(truncate=False)"
   ]
  },
  {
   "cell_type": "code",
   "execution_count": 20,
   "metadata": {},
   "outputs": [
    {
     "name": "stdout",
     "output_type": "stream",
     "text": [
      "+-------+-----------------------------------------------------------------------------------------------------------------------------------------------------------------------------------------------------+\n",
      "|book_id|recommendations                                                                                                                                                                                      |\n",
      "+-------+-----------------------------------------------------------------------------------------------------------------------------------------------------------------------------------------------------+\n",
      "|471    |[[44119, 5.759254], [40668, 5.691053], [20313, 5.6232214], [9530, 5.6173387], [29838, 5.541521], [46914, 5.5317917], [20796, 5.4254336], [22180, 5.3727074], [10353, 5.357664], [14157, 5.351783]]   |\n",
      "|2142   |[[40668, 6.461544], [42544, 6.3050637], [45628, 6.199746], [34036, 6.1381516], [35709, 6.1267443], [40526, 6.1183352], [40026, 6.0962234], [42394, 6.0418777], [30616, 5.9110866], [20796, 5.904322]]|\n",
      "|148    |[[20313, 5.3302155], [38985, 5.3239284], [17998, 5.2620974], [45208, 5.2547574], [8377, 5.2186894], [22180, 5.1757402], [39685, 5.1690555], [51193, 5.1628284], [9514, 5.1563573], [43848, 5.151088]]|\n",
      "+-------+-----------------------------------------------------------------------------------------------------------------------------------------------------------------------------------------------------+\n",
      "\n"
     ]
    }
   ],
   "source": [
    "# Generate top 10 user recommendations for a specified set of movies\n",
    "movies = ratings_df.select(als.getItemCol()).distinct().limit(3)\n",
    "movieSubSetRecs = model.recommendForItemSubset(movies, 10)\n",
    "movieSubSetRecs.show(truncate=False)"
   ]
  },
  {
   "cell_type": "markdown",
   "metadata": {},
   "source": [
    "## 6. References\n",
    "\n",
    "* https://spark.apache.org/docs/latest/ml-collaborative-filtering.html"
   ]
  }
 ],
 "metadata": {
  "kernelspec": {
   "display_name": "Python 3",
   "language": "python",
   "name": "python3"
  },
  "language_info": {
   "codemirror_mode": {
    "name": "ipython",
    "version": 3
   },
   "file_extension": ".py",
   "mimetype": "text/x-python",
   "name": "python",
   "nbconvert_exporter": "python",
   "pygments_lexer": "ipython3",
   "version": "3.7.3"
  }
 },
 "nbformat": 4,
 "nbformat_minor": 2
}

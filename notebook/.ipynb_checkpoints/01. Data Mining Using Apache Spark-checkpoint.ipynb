{
 "cells": [
  {
   "cell_type": "markdown",
   "metadata": {},
   "source": [
    "# Assignment 01 - Introduction of Apache Spark \n",
    "## 1. Preparation\n",
    "### 1.1 Requirements\n",
    "\n",
    "1. Operating System : Ubuntu 18.04.2 LTS\n",
    "2. Apache Spark 2.3.3 Binary (https://spark.apache.org/downloads.html)\n",
    "3. Python 3.6.5 (Anaconda, Inc.)\n",
    "4. PySpark 2.4.0 (Apache Spark Python API)\n",
    "5. Findspark 1.3.0 (Python's library)\n",
    "6. Jupyter Notebook (https://jupyter.org/install)\n",
    "\n",
    "### 1.2 Installation\n",
    "* [How To Install Apache Spark on Ubuntu 18.04 LTS](https://idroot.us/linux/install-apache-spark-ubuntu-18-04-lts/)\n",
    "* [Pyspark and Jupyter notebook setup in Ubuntu](https://jmedium.com/pyspark-in-python/)\n",
    "\n",
    "### 1.3 Description of Dataset\n",
    "* Dataset's name : [UK Road Safety : Traffic Accidents and Vehicles](https://www.kaggle.com/tsiaras/uk-road-safety-accidents-and-vehicles)\n",
    "* Description : Detailed dataset of road accidents and involved vehicles in the UK (2005-2017). Each line represents a single traffic accident (identified by the Accident_Index column) and its various properties.\n",
    "* There are two kinds of data sources in this dataset :\n",
    "\n",
    "<table>\n",
    "    <thead>\n",
    "        <tr>\n",
    "            <th>Data Sources</th>\n",
    "            <th>Number of Rows</th>\n",
    "            <th>Number of Columns</th>\n",
    "            <th>Size</th>\n",
    "            <th>File Format</th>\n",
    "        </tr>\n",
    "    </thead>\n",
    "    <tbody>\n",
    "        <tr>\n",
    "            <td>Accident_Information.csv</td>\n",
    "            <td>2047256</td>\n",
    "            <td>34</td>\n",
    "            <td>705,5 MB</td>\n",
    "            <td rowspan=3>CSV</td>\n",
    "        </tr>\n",
    "        <tr>\n",
    "            <td>Vehicle_Information.csv</td>\n",
    "            <td>2177205</td>\n",
    "            <td>24</td>\n",
    "            <td>644,4 MB</td>\n",
    "        </tr>\n",
    "        <tr>\n",
    "            <td colspan=3>Total</td>\n",
    "            <td>1,3 GB</td>\n",
    "        </tr>\n",
    "    </tbody>\n",
    "</table>\n",
    "    \n",
    "## 2. Spark Initialization"
   ]
  },
  {
   "cell_type": "code",
   "execution_count": 1,
   "metadata": {},
   "outputs": [],
   "source": [
    "# Import findspark to make pyspark importable as a regular library\n",
    "import findspark\n",
    "findspark.init('/home/mocatfrio/spark') \n",
    "\n",
    "# /home/mocatfrio/spark has symbolic link to /bin/spark-2.3.3-bin-hadoop2.7"
   ]
  },
  {
   "cell_type": "code",
   "execution_count": 2,
   "metadata": {},
   "outputs": [],
   "source": [
    "# Import required python library\n",
    "from pyspark.sql import SparkSession\n",
    "\n",
    "# Create Spark Session\n",
    "# The entry point to programming Spark with the Dataset \n",
    "spark = SparkSession \\\n",
    "    .builder \\\n",
    "    .appName(\"Traffic Accidents and Vehicles\") \\\n",
    "    .getOrCreate()"
   ]
  },
  {
   "cell_type": "code",
   "execution_count": 3,
   "metadata": {},
   "outputs": [
    {
     "name": "stdout",
     "output_type": "stream",
     "text": [
      "<pyspark.sql.session.SparkSession object at 0x7f2f74b5b940>\n"
     ]
    }
   ],
   "source": [
    "# Print spark object ID\n",
    "print(spark)"
   ]
  },
  {
   "cell_type": "markdown",
   "metadata": {},
   "source": [
    "## 3. Load Dataset \n",
    "### 3.1 Accident Information"
   ]
  },
  {
   "cell_type": "code",
   "execution_count": 4,
   "metadata": {},
   "outputs": [],
   "source": [
    "# Load the dataset\n",
    "df_a = spark.read.csv(\"/home/mocatfrio/Documents/big-data/tugas-1/Accident_Information.csv\", header=True, inferSchema=True)"
   ]
  },
  {
   "cell_type": "code",
   "execution_count": 5,
   "metadata": {},
   "outputs": [
    {
     "name": "stdout",
     "output_type": "stream",
     "text": [
      "+--------------+--------------+---------------+--------------+---------------+-----------------+-------------------+-------------------+-----------+-------------------------------------------+--------------------+--------------------+---------+--------------------+--------------------------+-------------------------+---------------------+----------------------+---------+-------------------------+--------------------+------------------+---------------------------------+---------------------------------------+-------------------+-----------------------+------------------+--------------------------+-----------+-----+-------------------+--------------------+----+----------+\n",
      "|Accident_Index|1st_Road_Class|1st_Road_Number|2nd_Road_Class|2nd_Road_Number|Accident_Severity|Carriageway_Hazards|               Date|Day_of_Week|Did_Police_Officer_Attend_Scene_of_Accident|    Junction_Control|     Junction_Detail| Latitude|    Light_Conditions|Local_Authority_(District)|Local_Authority_(Highway)|Location_Easting_OSGR|Location_Northing_OSGR|Longitude|LSOA_of_Accident_Location|Number_of_Casualties|Number_of_Vehicles|Pedestrian_Crossing-Human_Control|Pedestrian_Crossing-Physical_Facilities|       Police_Force|Road_Surface_Conditions|         Road_Type|Special_Conditions_at_Site|Speed_limit| Time|Urban_or_Rural_Area|  Weather_Conditions|Year|InScotland|\n",
      "+--------------+--------------+---------------+--------------+---------------+-----------------+-------------------+-------------------+-----------+-------------------------------------------+--------------------+--------------------+---------+--------------------+--------------------------+-------------------------+---------------------+----------------------+---------+-------------------------+--------------------+------------------+---------------------------------+---------------------------------------+-------------------+-----------------------+------------------+--------------------------+-----------+-----+-------------------+--------------------+----+----------+\n",
      "| 200501BS00001|             A|           3218|            NA|              0|          Serious|               None|2005-01-04 00:00:00|    Tuesday|                                          1|Data missing or o...|Not at junction o...|51.489096|            Daylight|      Kensington and Ch...|     Kensington and Ch...|               525680|                178240| -0.19117|                E01002849|                   1|                 1|                                0|                                      1|Metropolitan Police|            Wet or damp|Single carriageway|                      None|         30|17:42|              Urban|Raining no high w...|2005|        No|\n",
      "| 200501BS00002|             B|            450|             C|              0|           Slight|               None|2005-01-05 00:00:00|  Wednesday|                                          1| Auto traffic signal|          Crossroads|51.520075|Darkness - lights...|      Kensington and Ch...|     Kensington and Ch...|               524170|                181650|-0.211708|                E01002909|                   1|                 1|                                0|                                      5|Metropolitan Police|                    Dry|  Dual carriageway|                      None|         30|17:36|              Urban|  Fine no high winds|2005|        No|\n",
      "| 200501BS00003|             C|              0|            NA|              0|           Slight|               None|2005-01-06 00:00:00|   Thursday|                                          1|Data missing or o...|Not at junction o...|51.525301|Darkness - lights...|      Kensington and Ch...|     Kensington and Ch...|               524520|                182240|-0.206458|                E01002857|                   1|                 2|                                0|                                      0|Metropolitan Police|                    Dry|Single carriageway|                      None|         30|00:15|              Urban|  Fine no high winds|2005|        No|\n",
      "| 200501BS00004|             A|           3220|            NA|              0|           Slight|               None|2005-01-07 00:00:00|     Friday|                                          1|Data missing or o...|Not at junction o...|51.482442|            Daylight|      Kensington and Ch...|     Kensington and Ch...|               526900|                177530|-0.173862|                E01002840|                   1|                 1|                                0|                                      0|Metropolitan Police|                    Dry|Single carriageway|                      None|         30|10:35|              Urban|  Fine no high winds|2005|        No|\n",
      "| 200501BS00005|  Unclassified|              0|            NA|              0|           Slight|               None|2005-01-10 00:00:00|     Monday|                                          1|Data missing or o...|Not at junction o...|51.495752|Darkness - lighti...|      Kensington and Ch...|     Kensington and Ch...|               528060|                179040|-0.156618|                E01002863|                   1|                 1|                                0|                                      0|Metropolitan Police|            Wet or damp|Single carriageway|                      None|         30|21:13|              Urban|  Fine no high winds|2005|        No|\n",
      "| 200501BS00006|  Unclassified|              0|            NA|              0|           Slight|               None|2005-01-11 00:00:00|    Tuesday|                                          1|Data missing or o...|Not at junction o...| 51.51554|            Daylight|      Kensington and Ch...|     Kensington and Ch...|               524770|                181160|-0.203238|                E01002832|                   1|                 2|                                0|                                      0|Metropolitan Police|            Wet or damp|Single carriageway|             Oil or diesel|         30|12:40|              Urban|Raining no high w...|2005|        No|\n",
      "| 200501BS00007|             C|              0|  Unclassified|              0|           Slight|               None|2005-01-13 00:00:00|   Thursday|                                          1|Give way or uncon...|T or staggered ju...|51.512695|Darkness - lights...|      Kensington and Ch...|     Kensington and Ch...|               524220|                180830|-0.211277|                E01002875|                   1|                 2|                                0|                                      0|Metropolitan Police|                    Dry|Single carriageway|                      None|         30|20:40|              Urban|  Fine no high winds|2005|        No|\n",
      "| 200501BS00009|             A|            315|            NA|              0|           Slight|               None|2005-01-14 00:00:00|     Friday|                                          1|Data missing or o...|Not at junction o...| 51.50226|            Daylight|      Kensington and Ch...|     Kensington and Ch...|               525890|                179710|-0.187623|                E01002889|                   2|                 1|                                0|                                      0|Metropolitan Police|                    Dry|  Dual carriageway|                      None|         30|17:35|              Urban|  Fine no high winds|2005|        No|\n",
      "| 200501BS00010|             A|           3212|             B|            304|           Slight|               None|2005-01-15 00:00:00|   Saturday|                                          1| Auto traffic signal|          Crossroads| 51.48342|Darkness - lights...|      Kensington and Ch...|     Kensington and Ch...|               527350|                177650|-0.167342|                E01002900|                   2|                 2|                                0|                                      5|Metropolitan Police|                    Dry|Single carriageway|                      None|         30|22:43|              Urban|  Fine no high winds|2005|        No|\n",
      "| 200501BS00011|             B|            450|             C|              0|           Slight|               None|2005-01-15 00:00:00|   Saturday|                                          1|Give way or uncon...|T or staggered ju...|51.512443|            Daylight|      Kensington and Ch...|     Kensington and Ch...|               524550|                180810|-0.206531|                E01002875|                   5|                 2|                                0|                                      8|Metropolitan Police|                    Dry|Single carriageway|                      None|         30|16:00|              Urban|  Fine no high winds|2005|        No|\n",
      "| 200501BS00012|             A|              4|             B|            325|           Slight|               None|2005-01-16 00:00:00|     Sunday|                                          1| Auto traffic signal|          Crossroads|51.494902|Darkness - lights...|      Kensington and Ch...|     Kensington and Ch...|               526240|                178900|-0.182872|                E01002835|                   1|                 1|                                0|                                      5|Metropolitan Police|                    Dry|Single carriageway|                      None|         30|00:42|              Urban|  Fine no high winds|2005|        No|\n",
      "| 200501BS00014|             A|           3220|             A|            308|           Slight|               None|2005-01-25 00:00:00|    Tuesday|                                          1| Auto traffic signal|          Crossroads|51.484044|Darkness - lights...|      Kensington and Ch...|     Kensington and Ch...|               526170|                177690|-0.184312|                E01002912|                   1|                 2|                                0|                                      5|Metropolitan Police|            Wet or damp|Single carriageway|                      None|         30|20:48|              Urban|  Fine no high winds|2005|        No|\n",
      "| 200501BS00015|  Unclassified|              0|             A|           3220|           Slight|               None|2005-01-11 00:00:00|    Tuesday|                                          1|Give way or uncon...|T or staggered ju...|51.491632|            Daylight|      Kensington and Ch...|     Kensington and Ch...|               525590|                178520|-0.192366|                E01002849|                   1|                 1|                                0|                                      1|Metropolitan Police|            Wet or damp|    One way street|                      None|         30|12:55|              Urban|Raining no high w...|2005|        No|\n",
      "| 200501BS00016|             A|           3217|             A|           3216|           Slight|               None|2005-01-18 00:00:00|    Tuesday|                                          1|Give way or uncon...|T or staggered ju...|51.492622|Darkness - lights...|      Kensington and Ch...|     Kensington and Ch...|               527990|                178690|-0.157753|                E01002902|                   1|                 2|                                0|                                      0|Metropolitan Police|            Wet or damp|    One way street|                      None|         30|05:01|              Urban|Raining no high w...|2005|        No|\n",
      "| 200501BS00017|             A|              4|            NA|              0|           Slight|               None|2005-01-18 00:00:00|    Tuesday|                                          1|Data missing or o...|Not at junction o...|51.495429|            Daylight|      Kensington and Ch...|     Kensington and Ch...|               526700|                178970|-0.176224|                E01002821|                   2|                 1|                                0|                                      0|Metropolitan Police|                    Dry|  Dual carriageway|                      None|         30|11:15|              Urban|  Fine no high winds|2005|        No|\n",
      "| 200501BS00018|             A|           3217|  Unclassified|              0|           Slight|               None|2005-01-18 00:00:00|    Tuesday|                                          1|Give way or uncon...|T or staggered ju...|51.481912|            Daylight|      Kensington and Ch...|     Kensington and Ch...|               526460|                177460| -0.18022|                E01002840|                   1|                 1|                                0|                                      1|Metropolitan Police|                    Dry|Single carriageway|                      None|         30|10:50|              Urban|  Fine no high winds|2005|        No|\n",
      "| 200501BS00019|  Unclassified|              0|  Unclassified|              0|          Serious|               None|2005-01-20 00:00:00|   Thursday|                                          1|Give way or uncon...|T or staggered ju...|51.500191|Darkness - lights...|      Kensington and Ch...|     Kensington and Ch...|               524680|                179450|-0.205139|                E01002864|                   1|                 2|                                0|                                      0|Metropolitan Police|                    Dry|Single carriageway|                      None|         30|00:15|              Urban|  Fine no high winds|2005|        No|\n",
      "| 200501BS00020|             A|           3218|             A|              4|           Slight|               None|2005-01-21 00:00:00|     Friday|                                          1|Give way or uncon...|T or staggered ju...|51.495811|            Daylight|      Kensington and Ch...|     Kensington and Ch...|               527000|                179020|-0.171887|                E01002821|                   1|                 2|                                0|                                      0|Metropolitan Police|                    Dry|Single carriageway|                      None|         30|09:15|              Urban|  Fine no high winds|2005|        No|\n",
      "| 200501BS00021|             B|            302|            NA|              0|           Slight|               None|2005-01-21 00:00:00|     Friday|                                          1|Data missing or o...|Not at junction o...|51.486552|Darkness - lights...|      Kensington and Ch...|     Kensington and Ch...|               527810|                178010| -0.16059|                E01002901|                   1|                 2|                                0|                                      0|Metropolitan Police|                    Dry|Single carriageway|                      None|         30|21:16|              Urban|  Fine no high winds|2005|        No|\n",
      "| 200501BS00022|             A|              4|  Unclassified|              0|          Serious|               None|2005-01-08 00:00:00|   Saturday|                                          1|Give way or uncon...|T or staggered ju...|51.495498|Darkness - lights...|      Kensington and Ch...|     Kensington and Ch...|               526790|                178980|-0.174925|                E01002821|                   1|                 1|                                0|                                      0|Metropolitan Police|                    Dry|Single carriageway|                      None|         30|03:00|              Urban|  Fine no high winds|2005|        No|\n",
      "+--------------+--------------+---------------+--------------+---------------+-----------------+-------------------+-------------------+-----------+-------------------------------------------+--------------------+--------------------+---------+--------------------+--------------------------+-------------------------+---------------------+----------------------+---------+-------------------------+--------------------+------------------+---------------------------------+---------------------------------------+-------------------+-----------------------+------------------+--------------------------+-----------+-----+-------------------+--------------------+----+----------+\n",
      "only showing top 20 rows\n",
      "\n"
     ]
    }
   ],
   "source": [
    "# Print top 20 rows data\n",
    "df_a.show()"
   ]
  },
  {
   "cell_type": "code",
   "execution_count": 6,
   "metadata": {},
   "outputs": [
    {
     "data": {
      "text/plain": [
       "2047256"
      ]
     },
     "execution_count": 6,
     "metadata": {},
     "output_type": "execute_result"
    }
   ],
   "source": [
    "# Count data rows\n",
    "df_a.count()"
   ]
  },
  {
   "cell_type": "code",
   "execution_count": 7,
   "metadata": {},
   "outputs": [
    {
     "name": "stdout",
     "output_type": "stream",
     "text": [
      "root\n",
      " |-- Accident_Index: string (nullable = true)\n",
      " |-- 1st_Road_Class: string (nullable = true)\n",
      " |-- 1st_Road_Number: string (nullable = true)\n",
      " |-- 2nd_Road_Class: string (nullable = true)\n",
      " |-- 2nd_Road_Number: string (nullable = true)\n",
      " |-- Accident_Severity: string (nullable = true)\n",
      " |-- Carriageway_Hazards: string (nullable = true)\n",
      " |-- Date: timestamp (nullable = true)\n",
      " |-- Day_of_Week: string (nullable = true)\n",
      " |-- Did_Police_Officer_Attend_Scene_of_Accident: string (nullable = true)\n",
      " |-- Junction_Control: string (nullable = true)\n",
      " |-- Junction_Detail: string (nullable = true)\n",
      " |-- Latitude: string (nullable = true)\n",
      " |-- Light_Conditions: string (nullable = true)\n",
      " |-- Local_Authority_(District): string (nullable = true)\n",
      " |-- Local_Authority_(Highway): string (nullable = true)\n",
      " |-- Location_Easting_OSGR: string (nullable = true)\n",
      " |-- Location_Northing_OSGR: string (nullable = true)\n",
      " |-- Longitude: string (nullable = true)\n",
      " |-- LSOA_of_Accident_Location: string (nullable = true)\n",
      " |-- Number_of_Casualties: integer (nullable = true)\n",
      " |-- Number_of_Vehicles: integer (nullable = true)\n",
      " |-- Pedestrian_Crossing-Human_Control: string (nullable = true)\n",
      " |-- Pedestrian_Crossing-Physical_Facilities: string (nullable = true)\n",
      " |-- Police_Force: string (nullable = true)\n",
      " |-- Road_Surface_Conditions: string (nullable = true)\n",
      " |-- Road_Type: string (nullable = true)\n",
      " |-- Special_Conditions_at_Site: string (nullable = true)\n",
      " |-- Speed_limit: string (nullable = true)\n",
      " |-- Time: string (nullable = true)\n",
      " |-- Urban_or_Rural_Area: string (nullable = true)\n",
      " |-- Weather_Conditions: string (nullable = true)\n",
      " |-- Year: integer (nullable = true)\n",
      " |-- InScotland: string (nullable = true)\n",
      "\n"
     ]
    }
   ],
   "source": [
    "# inferSchema is used to inference the actual datatype of columns, especially for dates and timestamp\n",
    "df_a.printSchema()"
   ]
  },
  {
   "cell_type": "code",
   "execution_count": 8,
   "metadata": {},
   "outputs": [],
   "source": [
    "# Register the dataframe as a SQL temporary view\n",
    "df_a.createOrReplaceTempView(\"traffic_accidents\")"
   ]
  },
  {
   "cell_type": "code",
   "execution_count": 9,
   "metadata": {},
   "outputs": [],
   "source": [
    "# SQL Query to find the type of accident severity \n",
    "result = spark.sql(\"SELECT DISTINCT Accident_Severity FROM traffic_accidents\")"
   ]
  },
  {
   "cell_type": "code",
   "execution_count": 10,
   "metadata": {},
   "outputs": [
    {
     "name": "stdout",
     "output_type": "stream",
     "text": [
      "+-----------------+\n",
      "|Accident_Severity|\n",
      "+-----------------+\n",
      "|           Slight|\n",
      "|            Fatal|\n",
      "|          Serious|\n",
      "+-----------------+\n",
      "\n"
     ]
    }
   ],
   "source": [
    "result.show()"
   ]
  },
  {
   "cell_type": "markdown",
   "metadata": {},
   "source": [
    "### 3.2 Vehicle Information"
   ]
  },
  {
   "cell_type": "code",
   "execution_count": 11,
   "metadata": {},
   "outputs": [],
   "source": [
    "# Load the dataset\n",
    "df_v = spark.read.csv(\"/home/mocatfrio/Documents/big-data/tugas-1/Vehicle_Information.csv\", header=True, inferSchema=True)"
   ]
  },
  {
   "cell_type": "code",
   "execution_count": 12,
   "metadata": {},
   "outputs": [
    {
     "name": "stdout",
     "output_type": "stream",
     "text": [
      "+--------------+--------------------+--------------+---------------------+-----------------+--------------------+-------------------------+--------------------------+-------------------------+--------------------+----------------+--------------------+---------------+-------------+------------------------+-----------------------+---------------------------+--------------------------------+--------------------+-----------------+--------------------+---------------------------+--------------------+----+\n",
      "|Accident_Index|  Age_Band_of_Driver|Age_of_Vehicle|Driver_Home_Area_Type|Driver_IMD_Decile|Engine_Capacity_.CC.|Hit_Object_in_Carriageway|Hit_Object_off_Carriageway|Journey_Purpose_of_Driver|   Junction_Location|            make|               model|Propulsion_Code|Sex_of_Driver|Skidding_and_Overturning|Towing_and_Articulation|Vehicle_Leaving_Carriageway|Vehicle_Location.Restricted_Lane|   Vehicle_Manoeuvre|Vehicle_Reference|        Vehicle_Type|Was_Vehicle_Left_Hand_Drive|X1st_Point_of_Impact|Year|\n",
      "+--------------+--------------------+--------------+---------------------+-----------------+--------------------+-------------------------+--------------------------+-------------------------+--------------------+----------------+--------------------+---------------+-------------+------------------------+-----------------------+---------------------------+--------------------------------+--------------------+-----------------+--------------------+---------------------------+--------------------+----+\n",
      "| 200401BS00001|             26 - 35|             3|           Urban area|                4|                1588|                     None|                      None|     Data missing or o...|Data missing or o...|           ROVER|      45 CLASSIC 16V|         Petrol|         Male|                    None|    No tow/articulation|       Did not leave car...|                               0|   Going ahead other|                2|                 109|       Data missing or o...|               Front|2004|\n",
      "| 200401BS00002|             26 - 35|            NA|           Urban area|                3|                  NA|                     None|                      None|     Data missing or o...|Data missing or o...|             BMW|                  C1|             NA|         Male|                    None|    No tow/articulation|       Did not leave car...|                               0|   Going ahead other|                1|                 109|       Data missing or o...|               Front|2004|\n",
      "| 200401BS00003|             26 - 35|             4| Data missing or o...|               NA|                 998|                     None|                      None|     Data missing or o...|Data missing or o...|          NISSAN|MICRA CELEBRATION...|         Petrol|         Male|                    None|    No tow/articulation|       Did not leave car...|                               0|       Turning right|                1|                 109|       Data missing or o...|               Front|2004|\n",
      "| 200401BS00003|             66 - 75|            NA| Data missing or o...|               NA|                  NA|                     None|                      None|     Data missing or o...|Data missing or o...|LONDON TAXIS INT|      TXII GOLD AUTO|             NA|         Male|                    None|    No tow/articulation|       Did not leave car...|                               0|   Going ahead other|                2|                 109|       Data missing or o...|               Front|2004|\n",
      "| 200401BS00004|             26 - 35|             1|           Urban area|                4|                 124|                     None|                      None|     Data missing or o...|Data missing or o...|         PIAGGIO|           VESPA ET4|         Petrol|         Male|                    None|    No tow/articulation|       Did not leave car...|                               0|   Going ahead other|                1|Motorcycle 125cc ...|       Data missing or o...|               Front|2004|\n",
      "| 200401BS00004|             36 - 45|            10| Data missing or o...|               NA|                1781|                     None|                      None|     Data missing or o...|Data missing or o...|      VOLKSWAGEN|                null|         Petrol|         Male|                    None|    No tow/articulation|       Did not leave car...|                               0|              U-turn|                2|                 109|       Data missing or o...|             Offside|2004|\n",
      "| 200401BS00009|             26 - 35|            NA|           Urban area|                4|                  NA|                     None|                      None|     Data missing or o...|Data missing or o...|         PIAGGIO|        VESPA GT 125|             NA|         Male|                 Skidded|    No tow/articulation|       Did not leave car...|                               0|   Going ahead other|                1|Motorcycle 125cc ...|       Data missing or o...|      Did not impact|2004|\n",
      "| 200401BS00010|             36 - 45|            NA|           Urban area|                8|                  NA|                     None|                      None|     Data missing or o...|Data missing or o...|             BMW|            R1100 RT|             NA|         Male|                    None|    No tow/articulation|       Did not leave car...|                               0|       Turning right|                1|                 109|       Data missing or o...|               Front|2004|\n",
      "| 200401BS00012|             46 - 55|             3| Data missing or o...|               NA|                2685|                     None|                      None|     Data missing or o...|Data missing or o...|        MERCEDES|                null|      Heavy oil|         Male|                    None|    No tow/articulation|       Did not leave car...|                               0| Slowing or stopping|                1|                 109|       Data missing or o...|                Back|2004|\n",
      "| 200401BS00013|             26 - 35|             4|           Urban area|                6|                2300|                     None|                      None|     Data missing or o...|Data missing or o...|      VOLKSWAGEN|             GOLF V5|         Petrol|       Female|                    None|    No tow/articulation|       Did not leave car...|                               0|       Turning right|                1|                 109|       Data missing or o...|             Offside|2004|\n",
      "| 200401BS00013|             21 - 25|             3|           Urban area|                8|                2402|                     None|                      None|     Data missing or o...|Data missing or o...|            FORD|  TRANSIT 350 LWB TD|      Heavy oil|         Male|                    None|    No tow/articulation|       Did not leave car...|                               0|Going ahead right...|                2|Van / Goods 3.5 t...|       Data missing or o...|               Front|2004|\n",
      "| 200401BS00021|             36 - 45|             2| Data missing or o...|               NA|                8268|                     None|                      None|     Data missing or o...|Data missing or o...|          DENNIS|                null|      Heavy oil|         Male|                    None|    No tow/articulation|       Did not leave car...|                               0|   Going ahead other|                2|Bus or coach (17 ...|       Data missing or o...|            Nearside|2004|\n",
      "| 200401BS00022|             36 - 45|            11| Data missing or o...|               NA|                1998|                     None|                      None|     Data missing or o...|Data missing or o...|        VAUXHALL|    CAVALIER LS AUTO|         Petrol|         Male|                    None|    No tow/articulation|       Did not leave car...|                               0|   Going ahead other|                1|                 109|       Data missing or o...|               Front|2004|\n",
      "| 200401BS00028|Data missing or o...|             6| Data missing or o...|               NA|                  NA|                     None|                      None|     Data missing or o...|Data missing or o...|          DENNIS|                null|      Heavy oil|    Not known|                    None|    No tow/articulation|       Did not leave car...|                               0|          Moving off|                1|Bus or coach (17 ...|       Data missing or o...|            Nearside|2004|\n",
      "| 200401BS00030|Data missing or o...|             1|           Urban area|               10|                6370|                     None|                      None|     Data missing or o...|Data missing or o...|        MERCEDES|                null|      Heavy oil|         Male|                    None|    No tow/articulation|       Did not leave car...|                               0|   Going ahead other|                2|Goods 7.5 tonnes ...|       Data missing or o...|               Front|2004|\n",
      "| 200401BS00033|Data missing or o...|            NA| Data missing or o...|               NA|                  NA|                     None|                      None|     Data missing or o...|Data missing or o...|             MAN|                null|             NA|    Not known|                    None|    No tow/articulation|       Did not leave car...|                               0|   Going ahead other|                2|Goods 7.5 tonnes ...|       Data missing or o...|            Nearside|2004|\n",
      "| 200401BS00038|             26 - 35|             6|           Urban area|                8|                1984|                     None|                      None|     Data missing or o...|Data missing or o...|      VOLKSWAGEN|        GOLF GL AUTO|         Petrol|         Male|                    None|    No tow/articulation|       Did not leave car...|                               0|       Turning right|                2|                 109|       Data missing or o...|               Front|2004|\n",
      "| 200401BS00041|             16 - 20|            NA|           Urban area|                7|                  NA|                     None|                      None|     Data missing or o...|Data missing or o...|         PIAGGIO|           VESPA ET4|             NA|         Male|                    None|    No tow/articulation|       Did not leave car...|                               0|   Going ahead other|                1|Motorcycle 125cc ...|       Data missing or o...|Data missing or o...|2004|\n",
      "| 200401BS00044|Data missing or o...|             6|           Urban area|                5|                2664|                     None|                      None|     Data missing or o...|Data missing or o...|LONDON TAXIS INT|     TX1 BRONZE AUTO|      Heavy oil|       Female|                    None|    No tow/articulation|       Did not leave car...|                               0|          Moving off|                2|                 108|       Data missing or o...|             Offside|2004|\n",
      "| 200401BS00045|             36 - 45|             2| Data missing or o...|               NA|                2979|                     None|                      None|     Data missing or o...|Data missing or o...|             BMW|   330 CI SPORT AUTO|         Petrol|         Male|                    None|    No tow/articulation|       Did not leave car...|                               0|Waiting to go - h...|                1|                 109|       Data missing or o...|                Back|2004|\n",
      "+--------------+--------------------+--------------+---------------------+-----------------+--------------------+-------------------------+--------------------------+-------------------------+--------------------+----------------+--------------------+---------------+-------------+------------------------+-----------------------+---------------------------+--------------------------------+--------------------+-----------------+--------------------+---------------------------+--------------------+----+\n",
      "only showing top 20 rows\n",
      "\n"
     ]
    }
   ],
   "source": [
    "# Print top 20 rows data\n",
    "df_v.show()"
   ]
  },
  {
   "cell_type": "code",
   "execution_count": 13,
   "metadata": {},
   "outputs": [
    {
     "data": {
      "text/plain": [
       "2177205"
      ]
     },
     "execution_count": 13,
     "metadata": {},
     "output_type": "execute_result"
    }
   ],
   "source": [
    "# Count data rows\n",
    "df_v.count()"
   ]
  },
  {
   "cell_type": "code",
   "execution_count": 14,
   "metadata": {},
   "outputs": [
    {
     "name": "stdout",
     "output_type": "stream",
     "text": [
      "root\n",
      " |-- Accident_Index: string (nullable = true)\n",
      " |-- Age_Band_of_Driver: string (nullable = true)\n",
      " |-- Age_of_Vehicle: string (nullable = true)\n",
      " |-- Driver_Home_Area_Type: string (nullable = true)\n",
      " |-- Driver_IMD_Decile: string (nullable = true)\n",
      " |-- Engine_Capacity_.CC.: string (nullable = true)\n",
      " |-- Hit_Object_in_Carriageway: string (nullable = true)\n",
      " |-- Hit_Object_off_Carriageway: string (nullable = true)\n",
      " |-- Journey_Purpose_of_Driver: string (nullable = true)\n",
      " |-- Junction_Location: string (nullable = true)\n",
      " |-- make: string (nullable = true)\n",
      " |-- model: string (nullable = true)\n",
      " |-- Propulsion_Code: string (nullable = true)\n",
      " |-- Sex_of_Driver: string (nullable = true)\n",
      " |-- Skidding_and_Overturning: string (nullable = true)\n",
      " |-- Towing_and_Articulation: string (nullable = true)\n",
      " |-- Vehicle_Leaving_Carriageway: string (nullable = true)\n",
      " |-- Vehicle_Location.Restricted_Lane: string (nullable = true)\n",
      " |-- Vehicle_Manoeuvre: string (nullable = true)\n",
      " |-- Vehicle_Reference: integer (nullable = true)\n",
      " |-- Vehicle_Type: string (nullable = true)\n",
      " |-- Was_Vehicle_Left_Hand_Drive: string (nullable = true)\n",
      " |-- X1st_Point_of_Impact: string (nullable = true)\n",
      " |-- Year: integer (nullable = true)\n",
      "\n"
     ]
    }
   ],
   "source": [
    "# inferSchema is used to inference the actual datatype of columns, especially for dates and timestamp\n",
    "df_v.printSchema()"
   ]
  },
  {
   "cell_type": "code",
   "execution_count": 15,
   "metadata": {},
   "outputs": [],
   "source": [
    "# Register the dataframe as a SQL temporary view\n",
    "df_v.createOrReplaceTempView(\"vehicle\")"
   ]
  },
  {
   "cell_type": "code",
   "execution_count": 16,
   "metadata": {},
   "outputs": [],
   "source": [
    "# SQL Query to find the vehicle type\n",
    "result = spark.sql(\"SELECT DISTINCT Vehicle_Type FROM vehicle\")"
   ]
  },
  {
   "cell_type": "code",
   "execution_count": 17,
   "metadata": {},
   "outputs": [
    {
     "name": "stdout",
     "output_type": "stream",
     "text": [
      "+--------------------+\n",
      "|        Vehicle_Type|\n",
      "+--------------------+\n",
      "|Motorcycle - unkn...|\n",
      "|Motorcycle over 5...|\n",
      "|Agricultural vehicle|\n",
      "|Taxi/Private hire...|\n",
      "|                 Car|\n",
      "|Goods over 3.5t. ...|\n",
      "|Minibus (8 - 16 p...|\n",
      "| Electric motorcycle|\n",
      "|    Mobility scooter|\n",
      "|                Tram|\n",
      "|Goods vehicle - u...|\n",
      "|                 108|\n",
      "|Motorcycle 125cc ...|\n",
      "|                 106|\n",
      "|       Other vehicle|\n",
      "|Motorcycle 50cc a...|\n",
      "|        Ridden horse|\n",
      "|Motorcycle over 1...|\n",
      "|Bus or coach (17 ...|\n",
      "|Van / Goods 3.5 t...|\n",
      "+--------------------+\n",
      "only showing top 20 rows\n",
      "\n"
     ]
    }
   ],
   "source": [
    "result.show()"
   ]
  },
  {
   "cell_type": "markdown",
   "metadata": {},
   "source": [
    "## 4. Simple Data Mining Process"
   ]
  },
  {
   "cell_type": "code",
   "execution_count": 18,
   "metadata": {},
   "outputs": [
    {
     "name": "stdout",
     "output_type": "stream",
     "text": [
      "+--------+\n",
      "|count(1)|\n",
      "+--------+\n",
      "|  176016|\n",
      "+--------+\n",
      "\n"
     ]
    }
   ],
   "source": [
    "#1. Count the number of accidents in September\n",
    "\n",
    "query1 = spark.sql(\"SELECT COUNT(*) \\\n",
    "                    FROM traffic_accidents \\\n",
    "                    WHERE MONTH(`Date`) = 9\")\n",
    "query1.show()"
   ]
  },
  {
   "cell_type": "code",
   "execution_count": 19,
   "metadata": {},
   "outputs": [
    {
     "name": "stdout",
     "output_type": "stream",
     "text": [
      "+----------+-------------------+\n",
      "|      date|Number of Accidents|\n",
      "+----------+-------------------+\n",
      "|2005-09-01|                518|\n",
      "|2005-09-02|                654|\n",
      "|2005-09-03|                494|\n",
      "|2005-09-04|                449|\n",
      "|2005-09-05|                450|\n",
      "|2005-09-06|                502|\n",
      "|2005-09-07|                575|\n",
      "|2005-09-08|                618|\n",
      "|2005-09-09|                602|\n",
      "|2005-09-10|                599|\n",
      "|2005-09-11|                364|\n",
      "|2005-09-12|                552|\n",
      "|2005-09-13|                548|\n",
      "|2005-09-14|                511|\n",
      "|2005-09-15|                743|\n",
      "|2005-09-16|                692|\n",
      "|2005-09-17|                553|\n",
      "|2005-09-18|                348|\n",
      "|2005-09-19|                496|\n",
      "|2005-09-20|                554|\n",
      "+----------+-------------------+\n",
      "only showing top 20 rows\n",
      "\n"
     ]
    }
   ],
   "source": [
    "#2. Count the number of accidents every day in September\n",
    "\n",
    "query2 = spark.sql(\"SELECT TO_DATE(`Date`, 'MM/DD/YYYY') AS date, COUNT(`Date`) as `Number of Accidents` \\\n",
    "                    FROM traffic_accidents \\\n",
    "                    WHERE MONTH(`Date`) = 9 \\\n",
    "                    GROUP BY `Date` \\\n",
    "                    ORDER BY `Date` ASC\")\n",
    "query2.show()"
   ]
  },
  {
   "cell_type": "code",
   "execution_count": 20,
   "metadata": {},
   "outputs": [
    {
     "name": "stdout",
     "output_type": "stream",
     "text": [
      "+----+-------------------+\n",
      "|Year|Number of Accidents|\n",
      "+----+-------------------+\n",
      "|2005|             198735|\n",
      "|2006|             189161|\n",
      "|2007|             182115|\n",
      "|2008|             170591|\n",
      "|2009|             163554|\n",
      "|2010|             154414|\n",
      "|2011|             151474|\n",
      "|2012|             145571|\n",
      "|2013|             138660|\n",
      "|2014|             146322|\n",
      "|2015|             140056|\n",
      "|2016|             136621|\n",
      "|2017|             129982|\n",
      "+----+-------------------+\n",
      "\n"
     ]
    }
   ],
   "source": [
    "#3. Count the number of accidents every year\n",
    "\n",
    "query3 = spark.sql(\"SELECT `Year`, COUNT(`Year`) as `Number of Accidents` \\\n",
    "                    FROM traffic_accidents \\\n",
    "                    GROUP BY `Year` \\\n",
    "                    ORDER BY `Year` ASC\")\n",
    "query3.show()"
   ]
  },
  {
   "cell_type": "code",
   "execution_count": 21,
   "metadata": {},
   "outputs": [
    {
     "name": "stdout",
     "output_type": "stream",
     "text": [
      "+-----------+-------------------+\n",
      "|Day_of_Week|Number of Accidents|\n",
      "+-----------+-------------------+\n",
      "|     Friday|             335183|\n",
      "|  Wednesday|             308580|\n",
      "|   Thursday|             308240|\n",
      "|    Tuesday|             306292|\n",
      "|     Monday|             290482|\n",
      "|   Saturday|             273152|\n",
      "|     Sunday|             225327|\n",
      "+-----------+-------------------+\n",
      "\n"
     ]
    }
   ],
   "source": [
    "#4. Count the number of accidents every day\n",
    "\n",
    "query4 = spark.sql(\"SELECT `Day_of_Week`, COUNT(`Day_of_Week`) as `Number of Accidents` \\\n",
    "                    FROM traffic_accidents \\\n",
    "                    GROUP BY `Day_of_Week` \\\n",
    "                    ORDER BY `Number of Accidents` DESC\")\n",
    "query4.show()"
   ]
  },
  {
   "cell_type": "code",
   "execution_count": 22,
   "metadata": {},
   "outputs": [
    {
     "name": "stdout",
     "output_type": "stream",
     "text": [
      "+-----------------------+-----------------+-------------------+\n",
      "|Road_Surface_Conditions|Accident_Severity|Number of Accidents|\n",
      "+-----------------------+-----------------+-------------------+\n",
      "|                    Dry|           Slight|            1198571|\n",
      "|            Wet or damp|           Slight|             482987|\n",
      "|                    Dry|          Serious|             201925|\n",
      "|            Wet or damp|          Serious|              77519|\n",
      "|           Frost or ice|           Slight|              35057|\n",
      "|                    Dry|            Fatal|              17719|\n",
      "|                   Snow|           Slight|              10847|\n",
      "|            Wet or damp|            Fatal|               8057|\n",
      "|           Frost or ice|          Serious|               4841|\n",
      "|   Data missing or o...|           Slight|               4693|\n",
      "|   Flood over 3cm. deep|           Slight|               2393|\n",
      "|                   Snow|          Serious|               1230|\n",
      "|   Data missing or o...|          Serious|                430|\n",
      "|           Frost or ice|            Fatal|                423|\n",
      "|   Flood over 3cm. deep|          Serious|                394|\n",
      "|                   Snow|            Fatal|                 90|\n",
      "|   Flood over 3cm. deep|            Fatal|                 58|\n",
      "|   Data missing or o...|            Fatal|                 22|\n",
      "+-----------------------+-----------------+-------------------+\n",
      "\n"
     ]
    }
   ],
   "source": [
    "#5. Find out the effect of road surface conditions on the severity of accidents\n",
    "\n",
    "query5 = spark.sql(\"SELECT `Road_Surface_Conditions`, `Accident_Severity`, COUNT(Accident_Severity) as `Number of Accidents` \\\n",
    "                    FROM traffic_accidents \\\n",
    "                    GROUP BY `Road_Surface_Conditions`, `Accident_Severity` \\\n",
    "                    ORDER BY `Number of Accidents` DESC\")\n",
    "query5.show()"
   ]
  },
  {
   "cell_type": "code",
   "execution_count": 23,
   "metadata": {},
   "outputs": [
    {
     "name": "stdout",
     "output_type": "stream",
     "text": [
      "+--------------------+-----------------+-------------------+\n",
      "|           Road_Type|Accident_Severity|Number of Accidents|\n",
      "+--------------------+-----------------+-------------------+\n",
      "|  Single carriageway|           Slight|            1280847|\n",
      "|    Dual carriageway|           Slight|             260566|\n",
      "|  Single carriageway|          Serious|             226950|\n",
      "|          Roundabout|           Slight|             123640|\n",
      "|    Dual carriageway|          Serious|              37534|\n",
      "|      One way street|           Slight|              37343|\n",
      "|  Single carriageway|            Fatal|              20085|\n",
      "|           Slip road|           Slight|              19388|\n",
      "|             Unknown|           Slight|              12763|\n",
      "|          Roundabout|          Serious|              12693|\n",
      "|      One way street|          Serious|               5625|\n",
      "|    Dual carriageway|            Fatal|               5307|\n",
      "|           Slip road|          Serious|               2004|\n",
      "|             Unknown|          Serious|               1533|\n",
      "|          Roundabout|            Fatal|                421|\n",
      "|      One way street|            Fatal|                290|\n",
      "|           Slip road|            Fatal|                166|\n",
      "|             Unknown|            Fatal|                100|\n",
      "|Data missing or o...|           Slight|                  1|\n",
      "+--------------------+-----------------+-------------------+\n",
      "\n"
     ]
    }
   ],
   "source": [
    "#6. Find out the effect of road type on the severity of accidents\n",
    "\n",
    "query6 = spark.sql(\"SELECT `Road_Type`,`Accident_Severity`, COUNT(Accident_Severity) as `Number of Accidents` \\\n",
    "                    FROM traffic_accidents \\\n",
    "                    GROUP BY `Road_Type`,`Accident_Severity` \\\n",
    "                    ORDER BY `Number of Accidents` DESC\")\n",
    "query6.show()"
   ]
  },
  {
   "cell_type": "code",
   "execution_count": 24,
   "metadata": {},
   "outputs": [
    {
     "name": "stdout",
     "output_type": "stream",
     "text": [
      "+--------------------+-----------------+-------------------+\n",
      "|    Light_Conditions|Accident_Severity|Number of Accidents|\n",
      "+--------------------+-----------------+-------------------+\n",
      "|            Daylight|           Slight|            1283012|\n",
      "|Darkness - lights...|           Slight|             337204|\n",
      "|            Daylight|          Serious|             197630|\n",
      "|Darkness - no lig...|           Slight|              85306|\n",
      "|Darkness - lights...|          Serious|              61492|\n",
      "|Darkness - no lig...|          Serious|              22396|\n",
      "|Darkness - lighti...|           Slight|              20800|\n",
      "|            Daylight|            Fatal|              15479|\n",
      "|Darkness - lights...|           Slight|               8213|\n",
      "|Darkness - lights...|            Fatal|               5448|\n",
      "|Darkness - no lig...|            Fatal|               4942|\n",
      "|Darkness - lighti...|          Serious|               3253|\n",
      "|Darkness - lights...|          Serious|               1568|\n",
      "|Darkness - lighti...|            Fatal|                309|\n",
      "|Darkness - lights...|            Fatal|                190|\n",
      "|Data missing or o...|           Slight|                 13|\n",
      "|Data missing or o...|            Fatal|                  1|\n",
      "+--------------------+-----------------+-------------------+\n",
      "\n"
     ]
    }
   ],
   "source": [
    "#7. Find out the effect of light condition on the severity of accidents\n",
    "\n",
    "query7 = spark.sql(\"SELECT `Light_Conditions`,`Accident_Severity`, COUNT(Accident_Severity) as `Number of Accidents` \\\n",
    "                    FROM traffic_accidents \\\n",
    "                    GROUP BY `Light_Conditions`,`Accident_Severity` \\\n",
    "                    ORDER BY `Number of Accidents` DESC\")\n",
    "query7.show()               "
   ]
  },
  {
   "cell_type": "code",
   "execution_count": 25,
   "metadata": {},
   "outputs": [
    {
     "name": "stdout",
     "output_type": "stream",
     "text": [
      "+----+--------------------------+\n",
      "|Year|Total Number of Casualties|\n",
      "+----+--------------------------+\n",
      "|2005|                    271017|\n",
      "|2006|                    258404|\n",
      "|2007|                    247780|\n",
      "|2008|                    230905|\n",
      "|2009|                    222146|\n",
      "|2010|                    208648|\n",
      "|2011|                    203950|\n",
      "|2012|                    195723|\n",
      "|2013|                    183670|\n",
      "|2014|                    194477|\n",
      "|2015|                    186189|\n",
      "|2016|                    181384|\n",
      "|2017|                    170993|\n",
      "+----+--------------------------+\n",
      "\n"
     ]
    }
   ],
   "source": [
    "#8. Counting the number of casualties each year\n",
    "\n",
    "query8 = spark.sql(\"SELECT `Year`, SUM(`Number_of_Casualties`) as `Total Number of Casualties` \\\n",
    "                    FROM traffic_accidents \\\n",
    "                    GROUP BY `Year` \\\n",
    "                    ORDER BY `Year` ASC\")\n",
    "query8.show()"
   ]
  },
  {
   "cell_type": "code",
   "execution_count": 26,
   "metadata": {},
   "outputs": [
    {
     "name": "stdout",
     "output_type": "stream",
     "text": [
      "+--------------------+-------+\n",
      "|       Sex_of_Driver|  Total|\n",
      "+--------------------+-------+\n",
      "|                Male|1468081|\n",
      "|              Female| 633005|\n",
      "|           Not known|  76051|\n",
      "|Data missing or o...|     68|\n",
      "+--------------------+-------+\n",
      "\n"
     ]
    }
   ],
   "source": [
    "#9. Counting the number of casualties each year\n",
    "\n",
    "query9 = spark.sql(\"SELECT `Sex_of_Driver`, COUNT(`Sex_of_Driver`) as `Total` \\\n",
    "                    FROM vehicle \\\n",
    "                    GROUP BY `Sex_of_Driver` \\\n",
    "                    ORDER BY `Total` DESC\")\n",
    "query9.show()"
   ]
  },
  {
   "cell_type": "code",
   "execution_count": 27,
   "metadata": {},
   "outputs": [
    {
     "name": "stdout",
     "output_type": "stream",
     "text": [
      "+--------------------+-------+\n",
      "|        Vehicle_Type|  Total|\n",
      "+--------------------+-------+\n",
      "|                 Car|1528628|\n",
      "|Van / Goods 3.5 t...| 117427|\n",
      "|                 109|  82920|\n",
      "|Bus or coach (17 ...|  76757|\n",
      "|Motorcycle over 5...|  71472|\n",
      "|Motorcycle 125cc ...|  61600|\n",
      "|Goods 7.5 tonnes ...|  55426|\n",
      "|Taxi/Private hire...|  43781|\n",
      "|         Pedal cycle|  38904|\n",
      "|Motorcycle 50cc a...|  22415|\n",
      "|Motorcycle over 1...|  20960|\n",
      "|Goods over 3.5t. ...|  18236|\n",
      "|       Other vehicle|  13994|\n",
      "|                 106|   7568|\n",
      "|Agricultural vehicle|   6018|\n",
      "|Minibus (8 - 16 p...|   5900|\n",
      "|Goods vehicle - u...|   1876|\n",
      "|                 108|   1334|\n",
      "|Motorcycle - unkn...|    741|\n",
      "|    Mobility scooter|    502|\n",
      "|Data missing or o...|    401|\n",
      "|        Ridden horse|    224|\n",
      "| Electric motorcycle|     78|\n",
      "|                Tram|     43|\n",
      "+--------------------+-------+\n",
      "\n"
     ]
    }
   ],
   "source": [
    "#10. Find out the effect of vehicle types on the number of accidents\n",
    "\n",
    "query10 = spark.sql(\"SELECT `Vehicle_Type`, COUNT(`Vehicle_Type`) as `Total` \\\n",
    "                    FROM vehicle \\\n",
    "                    GROUP BY `Vehicle_Type` \\\n",
    "                    ORDER BY `Total` DESC\")\n",
    "query10.show(50)"
   ]
  },
  {
   "cell_type": "markdown",
   "metadata": {},
   "source": [
    "## 5. Save the Query Results"
   ]
  },
  {
   "cell_type": "code",
   "execution_count": 29,
   "metadata": {},
   "outputs": [],
   "source": [
    "# Save the results to partitioned CSV\n",
    "query10.write.option(\"header\", \"true\") \\\n",
    "  .csv(\"/home/mocatfrio/Documents/big-data/tugas-1/result/query10.csv\")"
   ]
  },
  {
   "cell_type": "code",
   "execution_count": 30,
   "metadata": {},
   "outputs": [],
   "source": [
    "# Convert to Pandas\n",
    "import pandas as pd\n",
    "\n",
    "queryPandas = query10.toPandas()"
   ]
  },
  {
   "cell_type": "code",
   "execution_count": 31,
   "metadata": {},
   "outputs": [],
   "source": [
    "# Save to single CSV\n",
    "queryPandas.to_csv(\"/home/mocatfrio/Documents/big-data/tugas-1/result/queryPandas.csv\", index=False)"
   ]
  }
 ],
 "metadata": {
  "kernelspec": {
   "display_name": "Python 3",
   "language": "python",
   "name": "python3"
  },
  "language_info": {
   "codemirror_mode": {
    "name": "ipython",
    "version": 3
   },
   "file_extension": ".py",
   "mimetype": "text/x-python",
   "name": "python",
   "nbconvert_exporter": "python",
   "pygments_lexer": "ipython3",
   "version": "3.6.5"
  }
 },
 "nbformat": 4,
 "nbformat_minor": 2
}

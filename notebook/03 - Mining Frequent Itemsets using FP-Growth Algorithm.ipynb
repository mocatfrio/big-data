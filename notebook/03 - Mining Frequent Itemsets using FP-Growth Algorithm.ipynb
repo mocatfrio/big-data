{
 "cells": [
  {
   "cell_type": "markdown",
   "metadata": {},
   "source": [
    "# Assignment 03 - Mining Frequent Itemsets using FP-Growth Algorithm\n",
    "## 1. Preparation\n",
    "### 1.1 Requirements\n",
    "\n",
    "1. Operating System : Linux Mint 18.3 Sylvia\n",
    "2. Apache Spark 2.4.0 Binary (https://spark.apache.org/downloads.html)\n",
    "3. PySpark 2.4.0 (Apache Spark Python API)\n",
    "4. Findspark 1.3.0 (Python's library)\n",
    "5. Jupyter Notebook (https://jupyter.org/install)\n",
    "\n",
    "### 1.2 Description of Dataset\n",
    "* Dataset's name : [Brazilian E-Commerce Public Dataset by Olist](https://www.kaggle.com/olistbr/brazilian-ecommerce)\n",
    "* Description : a Brazilian ecommerce public dataset of orders made at Olist Store. The dataset has information of 100k orders from 2016 to 2018 made at multiple marketplaces in Brazil. Its features allows viewing an order from multiple dimensions: from order status, price, payment and freight performance to customer location, product attributes and finally reviews written by customers. \n",
    "* There are nine data sources in this dataset :\n",
    "    \n",
    "| Data Source | Number of Rows | Number of Columns |\n",
    "|---|---|---|\n",
    "| olist_customers_dataset.csv | 99.4k | 5 |\n",
    "| olist_geolocation_dataset.csv | 1.00m | 5 |\n",
    "| olist_order_items_dataset.csv | 113k | 7 |\n",
    "| olist_order_payments_dataset.csv | 104k | 5 |\n",
    "| olist_order_reviews_dataset.csv | 100.0k | 7 |\n",
    "| olist_orders_dataset.csv | 99.4k | 8 |\n",
    "| olist_products_dataset.csv | 33.0k | 9 |\n",
    "| olist_sellers_dataset.csv | 3095 | 4 |\n",
    "| product_category_name_translation.csv | 71 | 2 |\n",
    "\n",
    "![data scheme](img/olistdata.png)\n"
   ]
  },
  {
   "cell_type": "code",
   "execution_count": null,
   "metadata": {},
   "outputs": [],
   "source": []
  },
  {
   "cell_type": "code",
   "execution_count": null,
   "metadata": {},
   "outputs": [],
   "source": []
  }
 ],
 "metadata": {
  "kernelspec": {
   "display_name": "Python 3",
   "language": "python",
   "name": "python3"
  },
  "language_info": {
   "codemirror_mode": {
    "name": "ipython",
    "version": 3
   },
   "file_extension": ".py",
   "mimetype": "text/x-python",
   "name": "python",
   "nbconvert_exporter": "python",
   "pygments_lexer": "ipython3",
   "version": "3.5.2"
  }
 },
 "nbformat": 4,
 "nbformat_minor": 2
}

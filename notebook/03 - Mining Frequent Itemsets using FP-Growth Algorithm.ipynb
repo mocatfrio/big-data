{
 "cells": [
  {
   "cell_type": "markdown",
   "metadata": {},
   "source": [
    "# Assignment 03 - Mining Frequent Itemsets using FP-Growth Algorithm\n",
    "## 1. Preparation\n",
    "### 1.1 Requirements\n",
    "\n",
    "1. Operating System : Linux Mint 18.3 Sylvia\n",
    "2. Apache Spark 2.4.0 Binary (https://spark.apache.org/downloads.html)\n",
    "3. PySpark 2.4.0 (Apache Spark Python API)\n",
    "4. Findspark 1.3.0 (Python's library)\n",
    "5. Jupyter Notebook (https://jupyter.org/install)\n",
    "\n",
    "### 1.2 Description of Dataset\n",
    "* Dataset's name : [Brazilian E-Commerce Public Dataset by Olist](https://www.kaggle.com/olistbr/brazilian-ecommerce)\n",
    "* Description : a Brazilian ecommerce public dataset of orders made at Olist Store. The dataset has information of 100k orders from 2016 to 2018 made at multiple marketplaces in Brazil. Its features allows viewing an order from multiple dimensions: from order status, price, payment and freight performance to customer location, product attributes and finally reviews written by customers. \n",
    "* There are nine data sources in this dataset, but I'll use only two data sources that required to mining frequent itemsets, that is **olist_order_items_dataset.csv** and **olist_products_dataset.csv**\n",
    "    \n",
    "| Data Source | Number of Rows | Number of Columns |\n",
    "|---|---|---|\n",
    "| olist_customers_dataset.csv | 99.4k | 5 |\n",
    "| olist_geolocation_dataset.csv | 1.00m | 5 |\n",
    "| olist_order_items_dataset.csv | 113k | 7 |\n",
    "| olist_order_payments_dataset.csv | 104k | 5 |\n",
    "| olist_order_reviews_dataset.csv | 100.0k | 7 |\n",
    "| olist_orders_dataset.csv | 99.4k | 8 |\n",
    "| olist_products_dataset.csv | 33.0k | 9 |\n",
    "| olist_sellers_dataset.csv | 3095 | 4 |\n",
    "| product_category_name_translation.csv | 71 | 2 |\n",
    "\n",
    "![data scheme](img/olistdata.png)\n",
    "\n",
    "## 2. Spark Initialization"
   ]
  },
  {
   "cell_type": "code",
   "execution_count": 1,
   "metadata": {},
   "outputs": [],
   "source": [
    "# Import findspark to make pyspark importable as a regular library\n",
    "import findspark\n",
    "findspark.init('/home/mocatfrio/spark') \n",
    "\n",
    "# /home/mocatfrio/spark has symbolic link to /bin/spark-2.4.0-bin-hadoop2.7"
   ]
  },
  {
   "cell_type": "code",
   "execution_count": 2,
   "metadata": {},
   "outputs": [],
   "source": [
    "# Import SparkSession\n",
    "from pyspark.sql import SparkSession\n",
    "\n",
    "# Create Spark Session\n",
    "spark = SparkSession \\\n",
    "    .builder \\\n",
    "    .appName(\"Frequent Itemsets\") \\\n",
    "    .getOrCreate()"
   ]
  },
  {
   "cell_type": "code",
   "execution_count": 3,
   "metadata": {},
   "outputs": [
    {
     "name": "stdout",
     "output_type": "stream",
     "text": [
      "<pyspark.sql.session.SparkSession object at 0x7fba8906f7b8>\n"
     ]
    }
   ],
   "source": [
    "# Print spark object ID\n",
    "print(spark)"
   ]
  },
  {
   "cell_type": "markdown",
   "metadata": {},
   "source": [
    "## 3. Load Dataset\n",
    "### 3.1 Order items Dataset"
   ]
  },
  {
   "cell_type": "code",
   "execution_count": 9,
   "metadata": {},
   "outputs": [],
   "source": [
    "# Load the dataset\n",
    "df_order = spark.read.load(\"/home/mocatfrio/Documents/projects/big-data/datasets/brazilian_ecommerce/olist_order_items_dataset.csv\", \\\n",
    "                     format=\"csv\", sep=\",\", inferSchema=\"true\", header=\"true\")"
   ]
  },
  {
   "cell_type": "code",
   "execution_count": 10,
   "metadata": {},
   "outputs": [
    {
     "name": "stdout",
     "output_type": "stream",
     "text": [
      "+--------------------+-------------+--------------------+--------------------+-------------------+------+-------------+\n",
      "|            order_id|order_item_id|          product_id|           seller_id|shipping_limit_date| price|freight_value|\n",
      "+--------------------+-------------+--------------------+--------------------+-------------------+------+-------------+\n",
      "|00010242fe8c5a6d1...|            1|4244733e06e7ecb49...|48436dade18ac8b2b...|2017-09-19 09:45:35|  58.9|        13.29|\n",
      "|00018f77f2f0320c5...|            1|e5f2d52b802189ee6...|dd7ddc04e1b6c2c61...|2017-05-03 11:05:13| 239.9|        19.93|\n",
      "|000229ec398224ef6...|            1|c777355d18b72b67a...|5b51032eddd242adc...|2018-01-18 14:48:30| 199.0|        17.87|\n",
      "|00024acbcdf0a6daa...|            1|7634da152a4610f15...|9d7a1d34a50524090...|2018-08-15 10:10:18| 12.99|        12.79|\n",
      "|00042b26cf59d7ce6...|            1|ac6c3623068f30de0...|df560393f3a51e745...|2017-02-13 13:57:51| 199.9|        18.14|\n",
      "|00048cc3ae777c65d...|            1|ef92defde845ab845...|6426d21aca402a131...|2017-05-23 03:55:27|  21.9|        12.69|\n",
      "|00054e8431b9d7675...|            1|8d4f2bb7e93e6710a...|7040e82f899a04d1b...|2017-12-14 12:10:31|  19.9|        11.85|\n",
      "|000576fe39319847c...|            1|557d850972a7d6f79...|5996cddab893a4652...|2018-07-10 12:30:45| 810.0|        70.75|\n",
      "|0005a1a1728c9d785...|            1|310ae3c140ff94b03...|a416b6a846a117243...|2018-03-26 18:31:29|145.95|        11.65|\n",
      "|0005f50442cb953dc...|            1|4535b0e1091c278df...|ba143b05f0110f0dc...|2018-07-06 14:10:56| 53.99|         11.4|\n",
      "|00061f2a7bc09da83...|            1|d63c1011f49d98b97...|cc419e0650a3c5ba7...|2018-03-29 22:28:09| 59.99|         8.88|\n",
      "|00063b381e2406b52...|            1|f177554ea93259a5b...|8602a61d680a10a82...|2018-07-31 17:30:39|  45.0|        12.98|\n",
      "|0006ec9db01a64e59...|            1|99a4788cb24856965...|4a3ca9315b744ce9f...|2018-07-26 17:24:20|  74.0|        23.32|\n",
      "|0008288aa423d2a3f...|            1|368c6c730842d7801...|1f50f920176fa81da...|2018-02-21 02:55:52|  49.9|        13.37|\n",
      "|0008288aa423d2a3f...|            2|368c6c730842d7801...|1f50f920176fa81da...|2018-02-21 02:55:52|  49.9|        13.37|\n",
      "|0009792311464db53...|            1|8cab8abac59158715...|530ec6109d11eaaf8...|2018-08-17 12:15:10|  99.9|        27.65|\n",
      "|0009c9a17f916a706...|            1|3f27ac8e699df3d30...|fcb5ace8bcc92f757...|2018-05-02 09:31:53| 639.0|        11.34|\n",
      "|000aed2e25dbad2f9...|            1|4fa33915031a8cde0...|fe2032dab1a61af87...|2018-05-16 20:57:03| 144.0|         8.77|\n",
      "|000c3e6612759851c...|            1|b50c950aba0dcead2...|218d46b86c1881d02...|2017-08-21 03:33:13|  99.0|        13.71|\n",
      "|000e562887b1f2006...|            1|5ed9eaf534f6936b5...|8cbac7e12637ed9cf...|2018-02-28 12:08:37|  25.0|        16.11|\n",
      "+--------------------+-------------+--------------------+--------------------+-------------------+------+-------------+\n",
      "only showing top 20 rows\n",
      "\n"
     ]
    }
   ],
   "source": [
    "# Print top 20 rows data\n",
    "df_order.show()"
   ]
  },
  {
   "cell_type": "code",
   "execution_count": 11,
   "metadata": {},
   "outputs": [
    {
     "data": {
      "text/plain": [
       "112650"
      ]
     },
     "execution_count": 11,
     "metadata": {},
     "output_type": "execute_result"
    }
   ],
   "source": [
    "# Count data rows\n",
    "df_order.count()"
   ]
  },
  {
   "cell_type": "code",
   "execution_count": 12,
   "metadata": {},
   "outputs": [
    {
     "name": "stdout",
     "output_type": "stream",
     "text": [
      "root\n",
      " |-- order_id: string (nullable = true)\n",
      " |-- order_item_id: integer (nullable = true)\n",
      " |-- product_id: string (nullable = true)\n",
      " |-- seller_id: string (nullable = true)\n",
      " |-- shipping_limit_date: timestamp (nullable = true)\n",
      " |-- price: double (nullable = true)\n",
      " |-- freight_value: double (nullable = true)\n",
      "\n"
     ]
    }
   ],
   "source": [
    "# inferSchema is used to inference the actual datatype of columns, especially for dates and timestamp\n",
    "df_order.printSchema()"
   ]
  },
  {
   "cell_type": "code",
   "execution_count": 125,
   "metadata": {},
   "outputs": [],
   "source": [
    "# Register the dataframe as a SQL temporary view\n",
    "df_order.createOrReplaceTempView(\"order\")"
   ]
  },
  {
   "cell_type": "markdown",
   "metadata": {},
   "source": [
    "### 3.1 Products Dataset"
   ]
  },
  {
   "cell_type": "code",
   "execution_count": 13,
   "metadata": {},
   "outputs": [],
   "source": [
    "# Load the dataset\n",
    "df_products = spark.read.load(\"/home/mocatfrio/Documents/projects/big-data/datasets/brazilian_ecommerce/olist_products_dataset.csv\", \\\n",
    "                     format=\"csv\", sep=\",\", inferSchema=\"true\", header=\"true\")"
   ]
  },
  {
   "cell_type": "code",
   "execution_count": 14,
   "metadata": {},
   "outputs": [
    {
     "name": "stdout",
     "output_type": "stream",
     "text": [
      "+--------------------+---------------------+-------------------+--------------------------+------------------+----------------+-----------------+-----------------+----------------+\n",
      "|          product_id|product_category_name|product_name_lenght|product_description_lenght|product_photos_qty|product_weight_g|product_length_cm|product_height_cm|product_width_cm|\n",
      "+--------------------+---------------------+-------------------+--------------------------+------------------+----------------+-----------------+-----------------+----------------+\n",
      "|1e9e8ef04dbcff454...|           perfumaria|                 40|                       287|                 1|             225|               16|               10|              14|\n",
      "|3aa071139cb16b67c...|                artes|                 44|                       276|                 1|            1000|               30|               18|              20|\n",
      "|96bd76ec8810374ed...|        esporte_lazer|                 46|                       250|                 1|             154|               18|                9|              15|\n",
      "|cef67bcfe19066a93...|                bebes|                 27|                       261|                 1|             371|               26|                4|              26|\n",
      "|9dc1a7de274444849...| utilidades_domest...|                 37|                       402|                 4|             625|               20|               17|              13|\n",
      "|41d3672d4792049fa...| instrumentos_musi...|                 60|                       745|                 1|             200|               38|                5|              11|\n",
      "|732bd381ad09e530f...|           cool_stuff|                 56|                      1272|                 4|           18350|               70|               24|              44|\n",
      "|2548af3e6e77a690c...|     moveis_decoracao|                 56|                       184|                 2|             900|               40|                8|              40|\n",
      "|37cc742be07708b53...|     eletrodomesticos|                 57|                       163|                 1|             400|               27|               13|              17|\n",
      "|8c92109888e8cdf9d...|           brinquedos|                 36|                      1156|                 1|             600|               17|               10|              12|\n",
      "|14aa47b7fe5c25522...|      cama_mesa_banho|                 54|                       630|                 1|            1100|               16|               10|              16|\n",
      "|03b63c5fc16691530...|                bebes|                 49|                       728|                 4|            7150|               50|               19|              45|\n",
      "|cf55509ea8edaaac1...| instrumentos_musi...|                 43|                      1827|                 3|             250|               17|                7|              17|\n",
      "|7bb6f29c2be577161...|     moveis_decoracao|                 51|                      2083|                 2|             600|               68|               11|              13|\n",
      "|eb31436580a610f20...| construcao_ferram...|                 59|                      1602|                 4|             200|               17|                7|              17|\n",
      "|3bb7f144022e67327...|        esporte_lazer|                 22|                      3021|                 1|             800|               16|                2|              11|\n",
      "|6a2fb4dd53d2cdb88...|           perfumaria|                 39|                       346|                 2|             400|               27|                5|              20|\n",
      "|a1b71017a84f92fd8...| informatica_acess...|                 59|                       636|                 1|             900|               40|               15|              20|\n",
      "|a0736b92e52f6cead...|     moveis_decoracao|                 56|                       296|                 2|            1700|              100|                7|              15|\n",
      "|f53103a77d9cf245e...|      cama_mesa_banho|                 52|                       206|                 1|             500|               16|               10|              16|\n",
      "+--------------------+---------------------+-------------------+--------------------------+------------------+----------------+-----------------+-----------------+----------------+\n",
      "only showing top 20 rows\n",
      "\n"
     ]
    }
   ],
   "source": [
    "df_products.show()"
   ]
  },
  {
   "cell_type": "code",
   "execution_count": 15,
   "metadata": {},
   "outputs": [
    {
     "data": {
      "text/plain": [
       "32951"
      ]
     },
     "execution_count": 15,
     "metadata": {},
     "output_type": "execute_result"
    }
   ],
   "source": [
    "df_products.count()"
   ]
  },
  {
   "cell_type": "code",
   "execution_count": 16,
   "metadata": {},
   "outputs": [
    {
     "name": "stdout",
     "output_type": "stream",
     "text": [
      "root\n",
      " |-- product_id: string (nullable = true)\n",
      " |-- product_category_name: string (nullable = true)\n",
      " |-- product_name_lenght: integer (nullable = true)\n",
      " |-- product_description_lenght: integer (nullable = true)\n",
      " |-- product_photos_qty: integer (nullable = true)\n",
      " |-- product_weight_g: integer (nullable = true)\n",
      " |-- product_length_cm: integer (nullable = true)\n",
      " |-- product_height_cm: integer (nullable = true)\n",
      " |-- product_width_cm: integer (nullable = true)\n",
      "\n"
     ]
    }
   ],
   "source": [
    "df_products.printSchema()"
   ]
  },
  {
   "cell_type": "code",
   "execution_count": 20,
   "metadata": {},
   "outputs": [],
   "source": [
    "df_products.createOrReplaceTempView(\"products\")"
   ]
  },
  {
   "cell_type": "markdown",
   "metadata": {},
   "source": [
    "## 4. Frequent Pattern Mining using FP-Growth Algorithm\n",
    "Apache Spark has provides a library to mining frequent itemsets using FP-Growth algorithm. First step of FP-growth is to calculate item frequencies and identify frequent items. Then, FP-Growth uses a suffix tree (FP-Tree) structure to encode transactions without generating candidate sets explicitly, which are usually expensive to generate. After that, the frequent itemsets can be extracted from the FP-Tree. For further explanation about FP-Growth, please visit http://hareenlaks.blogspot.com/2011/06/fp-tree-example-how-to-identify.html\n",
    "\n",
    "\n",
    "### 4.1 Preprocess Data\n",
    "First, we need to preprocess the original data because FP-Growth algorithm from Spark can only process 2-column data. i.e. id and items, for example:\n",
    "\n",
    "| id|       items|\n",
    "|---|------------|\n",
    "|  0|   [1, 2, 5]|\n",
    "|  1|[1, 2, 3, 5]|\n",
    "|  2|      [1, 2]|"
   ]
  },
  {
   "cell_type": "code",
   "execution_count": 108,
   "metadata": {},
   "outputs": [
    {
     "name": "stdout",
     "output_type": "stream",
     "text": [
      "+--------------------+-------+\n",
      "|          product_id|item_id|\n",
      "+--------------------+-------+\n",
      "|00066f42aeeb9f300...|      1|\n",
      "|00088930e925c41fd...|      2|\n",
      "|0009406fd7479715e...|      3|\n",
      "|000b8f95fcb9e0096...|      4|\n",
      "|000d9be29b5207b54...|      5|\n",
      "|0011c512eb256aa0d...|      6|\n",
      "|00126f27c81360368...|      7|\n",
      "|001795ec6f1b187d3...|      8|\n",
      "|001b237c0e9bb435f...|      9|\n",
      "|001b72dfd63e9833e...|     10|\n",
      "|001c5d71ac6ad696d...|     11|\n",
      "|00210e41887c2a8ef...|     12|\n",
      "|002159fe700ed3521...|     13|\n",
      "|0021a87d4997a48b6...|     14|\n",
      "|00250175f79f584c1...|     15|\n",
      "|002552c0663708129...|     16|\n",
      "|002959d7a0b0990fe...|     17|\n",
      "|002af88741ba70c7b...|     18|\n",
      "|002c6dab60557c48c...|     19|\n",
      "|002d4ea7c04739c13...|     20|\n",
      "+--------------------+-------+\n",
      "only showing top 20 rows\n",
      "\n"
     ]
    }
   ],
   "source": [
    "# Make new id for each products named \"item_id\" using row_number()\n",
    "query = spark.sql(\"SELECT `product_id`, ROW_NUMBER() OVER (ORDER BY `product_id`) AS `item_id` \\\n",
    "                    FROM products\")\n",
    "\n",
    "# Register the dataframe as a SQL temporary view\n",
    "query.createOrReplaceTempView(\"products_prep\")\n",
    "\n",
    "query.show()"
   ]
  },
  {
   "cell_type": "code",
   "execution_count": 131,
   "metadata": {},
   "outputs": [
    {
     "name": "stdout",
     "output_type": "stream",
     "text": [
      "+--------------------+---+------------+\n",
      "|            order_id| id|num_of_items|\n",
      "+--------------------+---+------------+\n",
      "|00010242fe8c5a6d1...|  1|           1|\n",
      "|00018f77f2f0320c5...|  2|           1|\n",
      "|000229ec398224ef6...|  3|           1|\n",
      "|00024acbcdf0a6daa...|  4|           1|\n",
      "|00042b26cf59d7ce6...|  5|           1|\n",
      "|00048cc3ae777c65d...|  6|           1|\n",
      "|00054e8431b9d7675...|  7|           1|\n",
      "|000576fe39319847c...|  8|           1|\n",
      "|0005a1a1728c9d785...|  9|           1|\n",
      "|0005f50442cb953dc...| 10|           1|\n",
      "|00061f2a7bc09da83...| 11|           1|\n",
      "|00063b381e2406b52...| 12|           1|\n",
      "|0006ec9db01a64e59...| 13|           1|\n",
      "|0008288aa423d2a3f...| 14|           2|\n",
      "|0009792311464db53...| 15|           1|\n",
      "|0009c9a17f916a706...| 16|           1|\n",
      "|000aed2e25dbad2f9...| 17|           1|\n",
      "|000c3e6612759851c...| 18|           1|\n",
      "|000e562887b1f2006...| 19|           1|\n",
      "|000e63d38ae8c00bb...| 20|           1|\n",
      "+--------------------+---+------------+\n",
      "only showing top 20 rows\n",
      "\n"
     ]
    }
   ],
   "source": [
    "# Make new id for each order named \"id\" using row_number()\n",
    "query1 = spark.sql(\"SELECT `order_id`, ROW_NUMBER() OVER (ORDER BY `order_id`) AS `id`, COUNT(`order_id`) AS `num_of_items` \\\n",
    "                    FROM order \\\n",
    "                    GROUP BY `order_id`\")\n",
    "\n",
    "# Register the dataframe as a SQL temporary view\n",
    "query1.createOrReplaceTempView(\"order_prep\")\n",
    "\n",
    "query1.show()"
   ]
  },
  {
   "cell_type": "code",
   "execution_count": 132,
   "metadata": {},
   "outputs": [
    {
     "name": "stdout",
     "output_type": "stream",
     "text": [
      "+---+-------------+-------+\n",
      "| id|order_item_id|item_id|\n",
      "+---+-------------+-------+\n",
      "|  1|            1|   8629|\n",
      "|  2|            1|  29598|\n",
      "|  3|            1|  25668|\n",
      "|  4|            1|  15323|\n",
      "|  5|            1|  22080|\n",
      "|  6|            1|  30848|\n",
      "|  7|            1|  18182|\n",
      "|  8|            1|  11123|\n",
      "|  9|            1|   6385|\n",
      "| 10|            1|   9013|\n",
      "| 11|            1|  27628|\n",
      "| 12|            1|  31102|\n",
      "| 13|            1|  19743|\n",
      "| 14|            2|   7080|\n",
      "| 14|            1|   7080|\n",
      "| 15|            1|  18083|\n",
      "| 16|            1|   8238|\n",
      "| 17|            1|  10354|\n",
      "| 18|            1|  23217|\n",
      "| 19|            1|  12287|\n",
      "+---+-------------+-------+\n",
      "only showing top 20 rows\n",
      "\n"
     ]
    }
   ],
   "source": [
    "# Join the order and products dataframe by product_id, so its product_id converted to item_id \n",
    "query2 = spark.sql(\"SELECT op.id, o.order_item_id, p.item_id \\\n",
    "                    FROM order AS o \\\n",
    "                    JOIN products_prep AS p \\\n",
    "                        ON o.product_id = p.product_id \\\n",
    "                    JOIN order_prep AS op \\\n",
    "                        ON o.order_id = op.order_id \\\n",
    "                    ORDER BY op.id ASC\")\n",
    "\n",
    "query2.show()"
   ]
  },
  {
   "cell_type": "code",
   "execution_count": 133,
   "metadata": {},
   "outputs": [],
   "source": [
    "# Register the dataframe as a SQL temporary view\n",
    "query2.createOrReplaceTempView(\"order_prep\")"
   ]
  },
  {
   "cell_type": "code",
   "execution_count": 148,
   "metadata": {},
   "outputs": [
    {
     "name": "stdout",
     "output_type": "stream",
     "text": [
      "+------------------------------+\n",
      "|concat(order_item_id, item_id)|\n",
      "+------------------------------+\n",
      "|18629                         |\n",
      "|129598                        |\n",
      "|125668                        |\n",
      "|115323                        |\n",
      "|122080                        |\n",
      "|130848                        |\n",
      "|118182                        |\n",
      "|111123                        |\n",
      "|16385                         |\n",
      "|19013                         |\n",
      "|127628                        |\n",
      "|131102                        |\n",
      "|119743                        |\n",
      "|27080                         |\n",
      "|17080                         |\n",
      "|118083                        |\n",
      "|18238                         |\n",
      "|110354                        |\n",
      "|123217                        |\n",
      "|112287                        |\n",
      "+------------------------------+\n",
      "only showing top 20 rows\n",
      "\n"
     ]
    }
   ],
   "source": [
    "from pyspark.sql.functions import col, concat, array, coalesce  \n",
    "\n",
    "query2.select(concat(col(\"order_item_id\"), col(\"item_id\"))).show()"
   ]
  },
  {
   "cell_type": "markdown",
   "metadata": {},
   "source": [
    "## References\n",
    "\n",
    "* https://spark.apache.org/docs/2.3.0/ml-frequent-pattern-mining.html\n",
    "* https://www.qubole.com/resources/pyspark-cheatsheet/"
   ]
  },
  {
   "cell_type": "code",
   "execution_count": null,
   "metadata": {},
   "outputs": [],
   "source": []
  }
 ],
 "metadata": {
  "kernelspec": {
   "display_name": "Python 3",
   "language": "python",
   "name": "python3"
  },
  "language_info": {
   "codemirror_mode": {
    "name": "ipython",
    "version": 3
   },
   "file_extension": ".py",
   "mimetype": "text/x-python",
   "name": "python",
   "nbconvert_exporter": "python",
   "pygments_lexer": "ipython3",
   "version": "3.5.2"
  }
 },
 "nbformat": 4,
 "nbformat_minor": 2
}

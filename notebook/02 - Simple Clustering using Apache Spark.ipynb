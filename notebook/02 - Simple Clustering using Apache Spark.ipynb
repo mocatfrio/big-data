{
 "cells": [
  {
   "cell_type": "markdown",
   "metadata": {},
   "source": [
    "# Assignment 02 - Simple Clustering using Apache Spark\n",
    "## 1. Preparation\n",
    "### 1.1 Requirements\n",
    "\n",
    "1. Operating System : Linux Mint 18.3 Sylvia\n",
    "2. Apache Spark 2.4.0 Binary (https://spark.apache.org/downloads.html)\n",
    "3. PySpark 2.4.0 (Apache Spark Python API)\n",
    "4. Findspark 1.3.0 (Python's library)\n",
    "5. Jupyter Notebook (https://jupyter.org/install)\n",
    "6. matplotlib-3.0.3\n",
    "7. bokeh-1.0.4\n",
    "8. pixiedust-1.1.15\n",
    "9. pandas-0.24.2\n",
    "\n",
    "### 1.2 Installation\n",
    "For Debian/Ubuntu-based Linux:\n",
    "```bash\n",
    "pip3 install matplotlib\n",
    "pip3 install bokeh\n",
    "pip3 install pixiedust\n",
    "pip3 install pandas\n",
    "```\n",
    "\n",
    "### 1.3 Description of Dataset\n",
    "* Dataset's name : [UK Road Safety : Traffic Accidents and Vehicles](https://www.kaggle.com/tsiaras/uk-road-safety-accidents-and-vehicles)\n",
    "* Description : Detailed dataset of road accidents and involved vehicles in the UK (2005-2017). Each line represents a single traffic accident (identified by the Accident_Index column) and its various properties.\n",
    "* There are two kinds of data sources in this dataset :\n",
    "\n",
    "<table>\n",
    "    <thead>\n",
    "        <tr>\n",
    "            <th>Data Sources</th>\n",
    "            <th>Number of Rows</th>\n",
    "            <th>Number of Columns</th>\n",
    "            <th>Size</th>\n",
    "            <th>File Format</th>\n",
    "        </tr>\n",
    "    </thead>\n",
    "    <tbody>\n",
    "        <tr>\n",
    "            <td>Accident_Information.csv</td>\n",
    "            <td>2047256</td>\n",
    "            <td>34</td>\n",
    "            <td>705,5 MB</td>\n",
    "            <td rowspan=3>CSV</td>\n",
    "        </tr>\n",
    "        <tr>\n",
    "            <td>Vehicle_Information.csv</td>\n",
    "            <td>2177205</td>\n",
    "            <td>24</td>\n",
    "            <td>644,4 MB</td>\n",
    "        </tr>\n",
    "        <tr>\n",
    "            <td colspan=3>Total</td>\n",
    "            <td>1,3 GB</td>\n",
    "        </tr>\n",
    "    </tbody>\n",
    "</table>\n",
    "    \n",
    "## 2. Spark Initialization"
   ]
  },
  {
   "cell_type": "code",
   "execution_count": 1,
   "metadata": {},
   "outputs": [],
   "source": [
    "# Import findspark to make pyspark importable as a regular library\n",
    "import findspark\n",
    "findspark.init('/home/mocatfrio/spark') \n",
    "\n",
    "# /home/mocatfrio/spark has symbolic link to /bin/spark-2.4.0-bin-hadoop2.7"
   ]
  },
  {
   "cell_type": "code",
   "execution_count": 2,
   "metadata": {},
   "outputs": [],
   "source": [
    "# Import required python library\n",
    "from pyspark.sql import SparkSession\n",
    "\n",
    "# Create Spark Session\n",
    "spark = SparkSession \\\n",
    "    .builder \\\n",
    "    .appName(\"Simple Clustering\") \\\n",
    "    .getOrCreate()"
   ]
  },
  {
   "cell_type": "code",
   "execution_count": 3,
   "metadata": {},
   "outputs": [
    {
     "name": "stdout",
     "output_type": "stream",
     "text": [
      "<pyspark.sql.session.SparkSession object at 0x7f28a49277f0>\n"
     ]
    }
   ],
   "source": [
    "# Print spark object ID\n",
    "print(spark)"
   ]
  },
  {
   "cell_type": "markdown",
   "metadata": {},
   "source": [
    "## 3. Load Dataset"
   ]
  },
  {
   "cell_type": "code",
   "execution_count": 4,
   "metadata": {},
   "outputs": [],
   "source": [
    "# Load the dataset\n",
    "df = spark.read.load(\"/home/mocatfrio/Documents/projects/big-data/datasets/Accident_Information.csv\", \\\n",
    "                     format=\"csv\", sep=\",\", inferSchema=\"true\", header=\"true\")"
   ]
  },
  {
   "cell_type": "code",
   "execution_count": 5,
   "metadata": {},
   "outputs": [
    {
     "name": "stdout",
     "output_type": "stream",
     "text": [
      "+--------------+--------------+---------------+--------------+---------------+-----------------+-------------------+-------------------+-----------+-------------------------------------------+--------------------+--------------------+---------+--------------------+--------------------------+-------------------------+---------------------+----------------------+---------+-------------------------+--------------------+------------------+---------------------------------+---------------------------------------+-------------------+-----------------------+------------------+--------------------------+-----------+-----+-------------------+--------------------+----+----------+\n",
      "|Accident_Index|1st_Road_Class|1st_Road_Number|2nd_Road_Class|2nd_Road_Number|Accident_Severity|Carriageway_Hazards|               Date|Day_of_Week|Did_Police_Officer_Attend_Scene_of_Accident|    Junction_Control|     Junction_Detail| Latitude|    Light_Conditions|Local_Authority_(District)|Local_Authority_(Highway)|Location_Easting_OSGR|Location_Northing_OSGR|Longitude|LSOA_of_Accident_Location|Number_of_Casualties|Number_of_Vehicles|Pedestrian_Crossing-Human_Control|Pedestrian_Crossing-Physical_Facilities|       Police_Force|Road_Surface_Conditions|         Road_Type|Special_Conditions_at_Site|Speed_limit| Time|Urban_or_Rural_Area|  Weather_Conditions|Year|InScotland|\n",
      "+--------------+--------------+---------------+--------------+---------------+-----------------+-------------------+-------------------+-----------+-------------------------------------------+--------------------+--------------------+---------+--------------------+--------------------------+-------------------------+---------------------+----------------------+---------+-------------------------+--------------------+------------------+---------------------------------+---------------------------------------+-------------------+-----------------------+------------------+--------------------------+-----------+-----+-------------------+--------------------+----+----------+\n",
      "| 200501BS00001|             A|           3218|            NA|              0|          Serious|               None|2005-01-04 00:00:00|    Tuesday|                                          1|Data missing or o...|Not at junction o...|51.489096|            Daylight|      Kensington and Ch...|     Kensington and Ch...|               525680|                178240| -0.19117|                E01002849|                   1|                 1|                                0|                                      1|Metropolitan Police|            Wet or damp|Single carriageway|                      None|         30|17:42|              Urban|Raining no high w...|2005|        No|\n",
      "| 200501BS00002|             B|            450|             C|              0|           Slight|               None|2005-01-05 00:00:00|  Wednesday|                                          1| Auto traffic signal|          Crossroads|51.520075|Darkness - lights...|      Kensington and Ch...|     Kensington and Ch...|               524170|                181650|-0.211708|                E01002909|                   1|                 1|                                0|                                      5|Metropolitan Police|                    Dry|  Dual carriageway|                      None|         30|17:36|              Urban|  Fine no high winds|2005|        No|\n",
      "| 200501BS00003|             C|              0|            NA|              0|           Slight|               None|2005-01-06 00:00:00|   Thursday|                                          1|Data missing or o...|Not at junction o...|51.525301|Darkness - lights...|      Kensington and Ch...|     Kensington and Ch...|               524520|                182240|-0.206458|                E01002857|                   1|                 2|                                0|                                      0|Metropolitan Police|                    Dry|Single carriageway|                      None|         30|00:15|              Urban|  Fine no high winds|2005|        No|\n",
      "| 200501BS00004|             A|           3220|            NA|              0|           Slight|               None|2005-01-07 00:00:00|     Friday|                                          1|Data missing or o...|Not at junction o...|51.482442|            Daylight|      Kensington and Ch...|     Kensington and Ch...|               526900|                177530|-0.173862|                E01002840|                   1|                 1|                                0|                                      0|Metropolitan Police|                    Dry|Single carriageway|                      None|         30|10:35|              Urban|  Fine no high winds|2005|        No|\n",
      "| 200501BS00005|  Unclassified|              0|            NA|              0|           Slight|               None|2005-01-10 00:00:00|     Monday|                                          1|Data missing or o...|Not at junction o...|51.495752|Darkness - lighti...|      Kensington and Ch...|     Kensington and Ch...|               528060|                179040|-0.156618|                E01002863|                   1|                 1|                                0|                                      0|Metropolitan Police|            Wet or damp|Single carriageway|                      None|         30|21:13|              Urban|  Fine no high winds|2005|        No|\n",
      "| 200501BS00006|  Unclassified|              0|            NA|              0|           Slight|               None|2005-01-11 00:00:00|    Tuesday|                                          1|Data missing or o...|Not at junction o...| 51.51554|            Daylight|      Kensington and Ch...|     Kensington and Ch...|               524770|                181160|-0.203238|                E01002832|                   1|                 2|                                0|                                      0|Metropolitan Police|            Wet or damp|Single carriageway|             Oil or diesel|         30|12:40|              Urban|Raining no high w...|2005|        No|\n",
      "| 200501BS00007|             C|              0|  Unclassified|              0|           Slight|               None|2005-01-13 00:00:00|   Thursday|                                          1|Give way or uncon...|T or staggered ju...|51.512695|Darkness - lights...|      Kensington and Ch...|     Kensington and Ch...|               524220|                180830|-0.211277|                E01002875|                   1|                 2|                                0|                                      0|Metropolitan Police|                    Dry|Single carriageway|                      None|         30|20:40|              Urban|  Fine no high winds|2005|        No|\n",
      "| 200501BS00009|             A|            315|            NA|              0|           Slight|               None|2005-01-14 00:00:00|     Friday|                                          1|Data missing or o...|Not at junction o...| 51.50226|            Daylight|      Kensington and Ch...|     Kensington and Ch...|               525890|                179710|-0.187623|                E01002889|                   2|                 1|                                0|                                      0|Metropolitan Police|                    Dry|  Dual carriageway|                      None|         30|17:35|              Urban|  Fine no high winds|2005|        No|\n",
      "| 200501BS00010|             A|           3212|             B|            304|           Slight|               None|2005-01-15 00:00:00|   Saturday|                                          1| Auto traffic signal|          Crossroads| 51.48342|Darkness - lights...|      Kensington and Ch...|     Kensington and Ch...|               527350|                177650|-0.167342|                E01002900|                   2|                 2|                                0|                                      5|Metropolitan Police|                    Dry|Single carriageway|                      None|         30|22:43|              Urban|  Fine no high winds|2005|        No|\n",
      "| 200501BS00011|             B|            450|             C|              0|           Slight|               None|2005-01-15 00:00:00|   Saturday|                                          1|Give way or uncon...|T or staggered ju...|51.512443|            Daylight|      Kensington and Ch...|     Kensington and Ch...|               524550|                180810|-0.206531|                E01002875|                   5|                 2|                                0|                                      8|Metropolitan Police|                    Dry|Single carriageway|                      None|         30|16:00|              Urban|  Fine no high winds|2005|        No|\n",
      "| 200501BS00012|             A|              4|             B|            325|           Slight|               None|2005-01-16 00:00:00|     Sunday|                                          1| Auto traffic signal|          Crossroads|51.494902|Darkness - lights...|      Kensington and Ch...|     Kensington and Ch...|               526240|                178900|-0.182872|                E01002835|                   1|                 1|                                0|                                      5|Metropolitan Police|                    Dry|Single carriageway|                      None|         30|00:42|              Urban|  Fine no high winds|2005|        No|\n",
      "| 200501BS00014|             A|           3220|             A|            308|           Slight|               None|2005-01-25 00:00:00|    Tuesday|                                          1| Auto traffic signal|          Crossroads|51.484044|Darkness - lights...|      Kensington and Ch...|     Kensington and Ch...|               526170|                177690|-0.184312|                E01002912|                   1|                 2|                                0|                                      5|Metropolitan Police|            Wet or damp|Single carriageway|                      None|         30|20:48|              Urban|  Fine no high winds|2005|        No|\n",
      "| 200501BS00015|  Unclassified|              0|             A|           3220|           Slight|               None|2005-01-11 00:00:00|    Tuesday|                                          1|Give way or uncon...|T or staggered ju...|51.491632|            Daylight|      Kensington and Ch...|     Kensington and Ch...|               525590|                178520|-0.192366|                E01002849|                   1|                 1|                                0|                                      1|Metropolitan Police|            Wet or damp|    One way street|                      None|         30|12:55|              Urban|Raining no high w...|2005|        No|\n",
      "| 200501BS00016|             A|           3217|             A|           3216|           Slight|               None|2005-01-18 00:00:00|    Tuesday|                                          1|Give way or uncon...|T or staggered ju...|51.492622|Darkness - lights...|      Kensington and Ch...|     Kensington and Ch...|               527990|                178690|-0.157753|                E01002902|                   1|                 2|                                0|                                      0|Metropolitan Police|            Wet or damp|    One way street|                      None|         30|05:01|              Urban|Raining no high w...|2005|        No|\n",
      "| 200501BS00017|             A|              4|            NA|              0|           Slight|               None|2005-01-18 00:00:00|    Tuesday|                                          1|Data missing or o...|Not at junction o...|51.495429|            Daylight|      Kensington and Ch...|     Kensington and Ch...|               526700|                178970|-0.176224|                E01002821|                   2|                 1|                                0|                                      0|Metropolitan Police|                    Dry|  Dual carriageway|                      None|         30|11:15|              Urban|  Fine no high winds|2005|        No|\n",
      "| 200501BS00018|             A|           3217|  Unclassified|              0|           Slight|               None|2005-01-18 00:00:00|    Tuesday|                                          1|Give way or uncon...|T or staggered ju...|51.481912|            Daylight|      Kensington and Ch...|     Kensington and Ch...|               526460|                177460| -0.18022|                E01002840|                   1|                 1|                                0|                                      1|Metropolitan Police|                    Dry|Single carriageway|                      None|         30|10:50|              Urban|  Fine no high winds|2005|        No|\n",
      "| 200501BS00019|  Unclassified|              0|  Unclassified|              0|          Serious|               None|2005-01-20 00:00:00|   Thursday|                                          1|Give way or uncon...|T or staggered ju...|51.500191|Darkness - lights...|      Kensington and Ch...|     Kensington and Ch...|               524680|                179450|-0.205139|                E01002864|                   1|                 2|                                0|                                      0|Metropolitan Police|                    Dry|Single carriageway|                      None|         30|00:15|              Urban|  Fine no high winds|2005|        No|\n",
      "| 200501BS00020|             A|           3218|             A|              4|           Slight|               None|2005-01-21 00:00:00|     Friday|                                          1|Give way or uncon...|T or staggered ju...|51.495811|            Daylight|      Kensington and Ch...|     Kensington and Ch...|               527000|                179020|-0.171887|                E01002821|                   1|                 2|                                0|                                      0|Metropolitan Police|                    Dry|Single carriageway|                      None|         30|09:15|              Urban|  Fine no high winds|2005|        No|\n",
      "| 200501BS00021|             B|            302|            NA|              0|           Slight|               None|2005-01-21 00:00:00|     Friday|                                          1|Data missing or o...|Not at junction o...|51.486552|Darkness - lights...|      Kensington and Ch...|     Kensington and Ch...|               527810|                178010| -0.16059|                E01002901|                   1|                 2|                                0|                                      0|Metropolitan Police|                    Dry|Single carriageway|                      None|         30|21:16|              Urban|  Fine no high winds|2005|        No|\n",
      "| 200501BS00022|             A|              4|  Unclassified|              0|          Serious|               None|2005-01-08 00:00:00|   Saturday|                                          1|Give way or uncon...|T or staggered ju...|51.495498|Darkness - lights...|      Kensington and Ch...|     Kensington and Ch...|               526790|                178980|-0.174925|                E01002821|                   1|                 1|                                0|                                      0|Metropolitan Police|                    Dry|Single carriageway|                      None|         30|03:00|              Urban|  Fine no high winds|2005|        No|\n",
      "+--------------+--------------+---------------+--------------+---------------+-----------------+-------------------+-------------------+-----------+-------------------------------------------+--------------------+--------------------+---------+--------------------+--------------------------+-------------------------+---------------------+----------------------+---------+-------------------------+--------------------+------------------+---------------------------------+---------------------------------------+-------------------+-----------------------+------------------+--------------------------+-----------+-----+-------------------+--------------------+----+----------+\n",
      "only showing top 20 rows\n",
      "\n"
     ]
    }
   ],
   "source": [
    "# Print top 20 rows data\n",
    "df.show()"
   ]
  },
  {
   "cell_type": "code",
   "execution_count": 6,
   "metadata": {},
   "outputs": [
    {
     "data": {
      "text/plain": [
       "2047256"
      ]
     },
     "execution_count": 6,
     "metadata": {},
     "output_type": "execute_result"
    }
   ],
   "source": [
    "# Count data rows\n",
    "df.count()"
   ]
  },
  {
   "cell_type": "code",
   "execution_count": 7,
   "metadata": {},
   "outputs": [
    {
     "name": "stdout",
     "output_type": "stream",
     "text": [
      "root\n",
      " |-- Accident_Index: string (nullable = true)\n",
      " |-- 1st_Road_Class: string (nullable = true)\n",
      " |-- 1st_Road_Number: string (nullable = true)\n",
      " |-- 2nd_Road_Class: string (nullable = true)\n",
      " |-- 2nd_Road_Number: string (nullable = true)\n",
      " |-- Accident_Severity: string (nullable = true)\n",
      " |-- Carriageway_Hazards: string (nullable = true)\n",
      " |-- Date: timestamp (nullable = true)\n",
      " |-- Day_of_Week: string (nullable = true)\n",
      " |-- Did_Police_Officer_Attend_Scene_of_Accident: string (nullable = true)\n",
      " |-- Junction_Control: string (nullable = true)\n",
      " |-- Junction_Detail: string (nullable = true)\n",
      " |-- Latitude: string (nullable = true)\n",
      " |-- Light_Conditions: string (nullable = true)\n",
      " |-- Local_Authority_(District): string (nullable = true)\n",
      " |-- Local_Authority_(Highway): string (nullable = true)\n",
      " |-- Location_Easting_OSGR: string (nullable = true)\n",
      " |-- Location_Northing_OSGR: string (nullable = true)\n",
      " |-- Longitude: string (nullable = true)\n",
      " |-- LSOA_of_Accident_Location: string (nullable = true)\n",
      " |-- Number_of_Casualties: integer (nullable = true)\n",
      " |-- Number_of_Vehicles: integer (nullable = true)\n",
      " |-- Pedestrian_Crossing-Human_Control: string (nullable = true)\n",
      " |-- Pedestrian_Crossing-Physical_Facilities: string (nullable = true)\n",
      " |-- Police_Force: string (nullable = true)\n",
      " |-- Road_Surface_Conditions: string (nullable = true)\n",
      " |-- Road_Type: string (nullable = true)\n",
      " |-- Special_Conditions_at_Site: string (nullable = true)\n",
      " |-- Speed_limit: string (nullable = true)\n",
      " |-- Time: string (nullable = true)\n",
      " |-- Urban_or_Rural_Area: string (nullable = true)\n",
      " |-- Weather_Conditions: string (nullable = true)\n",
      " |-- Year: integer (nullable = true)\n",
      " |-- InScotland: string (nullable = true)\n",
      "\n"
     ]
    }
   ],
   "source": [
    "# inferSchema is used to inference the actual datatype of columns, especially for dates and timestamp\n",
    "df.printSchema()"
   ]
  },
  {
   "cell_type": "markdown",
   "metadata": {},
   "source": [
    "## 4. Simple Clustering\n",
    "We want to cluster some areas or points of frequent accidents in the UK (2015-2017) according to its latitude and longitude point. \n",
    "\n",
    "Following are the steps:\n",
    "\n",
    "### 4.1 Preprocess Data"
   ]
  },
  {
   "cell_type": "code",
   "execution_count": 8,
   "metadata": {},
   "outputs": [],
   "source": [
    "# Import col\n",
    "from pyspark.sql.functions import col"
   ]
  },
  {
   "cell_type": "code",
   "execution_count": 9,
   "metadata": {},
   "outputs": [],
   "source": [
    "# Convert the type of Latitude and Longitude values into float and remove null values\n",
    "df_preprocessed = (df\n",
    "       .withColumn(\"Latitude\", col(\"Latitude\").cast(\"float\"))\n",
    "       .withColumn(\"Longitude\", col(\"Longitude\").cast(\"float\"))\n",
    "       .dropna()\n",
    "       )"
   ]
  },
  {
   "cell_type": "code",
   "execution_count": 10,
   "metadata": {},
   "outputs": [
    {
     "name": "stdout",
     "output_type": "stream",
     "text": [
      "root\n",
      " |-- Accident_Index: string (nullable = true)\n",
      " |-- 1st_Road_Class: string (nullable = true)\n",
      " |-- 1st_Road_Number: string (nullable = true)\n",
      " |-- 2nd_Road_Class: string (nullable = true)\n",
      " |-- 2nd_Road_Number: string (nullable = true)\n",
      " |-- Accident_Severity: string (nullable = true)\n",
      " |-- Carriageway_Hazards: string (nullable = true)\n",
      " |-- Date: timestamp (nullable = true)\n",
      " |-- Day_of_Week: string (nullable = true)\n",
      " |-- Did_Police_Officer_Attend_Scene_of_Accident: string (nullable = true)\n",
      " |-- Junction_Control: string (nullable = true)\n",
      " |-- Junction_Detail: string (nullable = true)\n",
      " |-- Latitude: float (nullable = true)\n",
      " |-- Light_Conditions: string (nullable = true)\n",
      " |-- Local_Authority_(District): string (nullable = true)\n",
      " |-- Local_Authority_(Highway): string (nullable = true)\n",
      " |-- Location_Easting_OSGR: string (nullable = true)\n",
      " |-- Location_Northing_OSGR: string (nullable = true)\n",
      " |-- Longitude: float (nullable = true)\n",
      " |-- LSOA_of_Accident_Location: string (nullable = true)\n",
      " |-- Number_of_Casualties: integer (nullable = true)\n",
      " |-- Number_of_Vehicles: integer (nullable = true)\n",
      " |-- Pedestrian_Crossing-Human_Control: string (nullable = true)\n",
      " |-- Pedestrian_Crossing-Physical_Facilities: string (nullable = true)\n",
      " |-- Police_Force: string (nullable = true)\n",
      " |-- Road_Surface_Conditions: string (nullable = true)\n",
      " |-- Road_Type: string (nullable = true)\n",
      " |-- Special_Conditions_at_Site: string (nullable = true)\n",
      " |-- Speed_limit: string (nullable = true)\n",
      " |-- Time: string (nullable = true)\n",
      " |-- Urban_or_Rural_Area: string (nullable = true)\n",
      " |-- Weather_Conditions: string (nullable = true)\n",
      " |-- Year: integer (nullable = true)\n",
      " |-- InScotland: string (nullable = true)\n",
      "\n"
     ]
    }
   ],
   "source": [
    "df_preprocessed.printSchema()"
   ]
  },
  {
   "cell_type": "code",
   "execution_count": 11,
   "metadata": {},
   "outputs": [
    {
     "data": {
      "text/plain": [
       "1902247"
      ]
     },
     "execution_count": 11,
     "metadata": {},
     "output_type": "execute_result"
    }
   ],
   "source": [
    "df_preprocessed.count()"
   ]
  },
  {
   "cell_type": "code",
   "execution_count": 12,
   "metadata": {},
   "outputs": [],
   "source": [
    "# Register the dataframe as a SQL temporary view\n",
    "df_preprocessed.createOrReplaceTempView(\"traffic_accidents\")"
   ]
  },
  {
   "cell_type": "markdown",
   "metadata": {},
   "source": [
    "### 4.2 Retrieve Data"
   ]
  },
  {
   "cell_type": "code",
   "execution_count": 13,
   "metadata": {},
   "outputs": [],
   "source": [
    "# Retrieve the data needed:\n",
    "# - Latitude\n",
    "# - Longitude\n",
    "# - Value (In this case is Number of Casualties)\n",
    "\n",
    "data = spark.sql(\"SELECT `Latitude` as lat, `Longitude` as lon, `Accident_Severity`, `Number_of_Casualties`\\\n",
    "                  FROM traffic_accidents\")"
   ]
  },
  {
   "cell_type": "code",
   "execution_count": 14,
   "metadata": {},
   "outputs": [
    {
     "name": "stdout",
     "output_type": "stream",
     "text": [
      "+---------+---------+-----------------+--------------------+\n",
      "|      lat|      lon|Accident_Severity|Number_of_Casualties|\n",
      "+---------+---------+-----------------+--------------------+\n",
      "|51.489098| -0.19117|          Serious|                   1|\n",
      "|51.520077|-0.211708|           Slight|                   1|\n",
      "|51.525303|-0.206458|           Slight|                   1|\n",
      "| 51.48244|-0.173862|           Slight|                   1|\n",
      "| 51.49575|-0.156618|           Slight|                   1|\n",
      "| 51.51554|-0.203238|           Slight|                   1|\n",
      "|51.512695|-0.211277|           Slight|                   1|\n",
      "| 51.50226|-0.187623|           Slight|                   2|\n",
      "| 51.48342|-0.167342|           Slight|                   2|\n",
      "|51.512444|-0.206531|           Slight|                   5|\n",
      "|51.494904|-0.182872|           Slight|                   1|\n",
      "|51.484043|-0.184312|           Slight|                   1|\n",
      "| 51.49163|-0.192366|           Slight|                   1|\n",
      "|51.492622|-0.157753|           Slight|                   1|\n",
      "| 51.49543|-0.176224|           Slight|                   2|\n",
      "| 51.48191| -0.18022|           Slight|                   1|\n",
      "| 51.50019|-0.205139|          Serious|                   1|\n",
      "| 51.49581|-0.171887|           Slight|                   1|\n",
      "|51.486553| -0.16059|           Slight|                   1|\n",
      "|  51.4955|-0.174925|          Serious|                   1|\n",
      "+---------+---------+-----------------+--------------------+\n",
      "only showing top 20 rows\n",
      "\n"
     ]
    }
   ],
   "source": [
    "data.show()"
   ]
  },
  {
   "cell_type": "code",
   "execution_count": 15,
   "metadata": {},
   "outputs": [
    {
     "data": {
      "text/plain": [
       "1902247"
      ]
     },
     "execution_count": 15,
     "metadata": {},
     "output_type": "execute_result"
    }
   ],
   "source": [
    "data.count()"
   ]
  },
  {
   "cell_type": "markdown",
   "metadata": {},
   "source": [
    "### 4.3 Assemble Features"
   ]
  },
  {
   "cell_type": "code",
   "execution_count": 16,
   "metadata": {},
   "outputs": [],
   "source": [
    "# Import VectorAssembler\n",
    "from pyspark.ml.feature import VectorAssembler"
   ]
  },
  {
   "cell_type": "code",
   "execution_count": 17,
   "metadata": {},
   "outputs": [],
   "source": [
    "# Spark Machine Learning requires the input features to be gathered in a single column of your dataframe, usually named \"features\"\n",
    "vecAssembler = VectorAssembler(inputCols=[\"lat\", \"lon\"], outputCol=\"features\")\n",
    "df_assembled = vecAssembler.transform(data)"
   ]
  },
  {
   "cell_type": "code",
   "execution_count": 18,
   "metadata": {},
   "outputs": [
    {
     "name": "stdout",
     "output_type": "stream",
     "text": [
      "+---------+---------+-----------------+--------------------+--------------------+\n",
      "|      lat|      lon|Accident_Severity|Number_of_Casualties|            features|\n",
      "+---------+---------+-----------------+--------------------+--------------------+\n",
      "|51.489098| -0.19117|          Serious|                   1|[51.4890975952148...|\n",
      "|51.520077|-0.211708|           Slight|                   1|[51.5200767517089...|\n",
      "|51.525303|-0.206458|           Slight|                   1|[51.5253028869628...|\n",
      "| 51.48244|-0.173862|           Slight|                   1|[51.4824409484863...|\n",
      "| 51.49575|-0.156618|           Slight|                   1|[51.4957504272460...|\n",
      "| 51.51554|-0.203238|           Slight|                   1|[51.5155410766601...|\n",
      "|51.512695|-0.211277|           Slight|                   1|[51.5126953125,-0...|\n",
      "| 51.50226|-0.187623|           Slight|                   2|[51.5022583007812...|\n",
      "| 51.48342|-0.167342|           Slight|                   2|[51.4834213256835...|\n",
      "|51.512444|-0.206531|           Slight|                   5|[51.5124435424804...|\n",
      "|51.494904|-0.182872|           Slight|                   1|[51.4949035644531...|\n",
      "|51.484043|-0.184312|           Slight|                   1|[51.4840431213378...|\n",
      "| 51.49163|-0.192366|           Slight|                   1|[51.4916305541992...|\n",
      "|51.492622|-0.157753|           Slight|                   1|[51.4926223754882...|\n",
      "| 51.49543|-0.176224|           Slight|                   2|[51.4954299926757...|\n",
      "| 51.48191| -0.18022|           Slight|                   1|[51.4819107055664...|\n",
      "| 51.50019|-0.205139|          Serious|                   1|[51.5001907348632...|\n",
      "| 51.49581|-0.171887|           Slight|                   1|[51.4958114624023...|\n",
      "|51.486553| -0.16059|           Slight|                   1|[51.4865531921386...|\n",
      "|  51.4955|-0.174925|          Serious|                   1|[51.4954986572265...|\n",
      "+---------+---------+-----------------+--------------------+--------------------+\n",
      "only showing top 20 rows\n",
      "\n"
     ]
    }
   ],
   "source": [
    "df_assembled.show()"
   ]
  },
  {
   "cell_type": "markdown",
   "metadata": {},
   "source": [
    "### 4.4 Cluster Data using K-Means"
   ]
  },
  {
   "cell_type": "code",
   "execution_count": 19,
   "metadata": {},
   "outputs": [],
   "source": [
    "# Import KMeans\n",
    "from pyspark.ml.clustering import KMeans"
   ]
  },
  {
   "cell_type": "code",
   "execution_count": 20,
   "metadata": {},
   "outputs": [],
   "source": [
    "# Train a k-means model\n",
    "kmeans = KMeans().setK(3).setSeed(1)\n",
    "model = kmeans.fit(df_assembled.select('features'))"
   ]
  },
  {
   "cell_type": "markdown",
   "metadata": {},
   "source": [
    "### 4.5 Transform and Show Cluster Assignment"
   ]
  },
  {
   "cell_type": "code",
   "execution_count": 21,
   "metadata": {},
   "outputs": [],
   "source": [
    "# Make predictions by transforming the initial dataframe\n",
    "transformed = model.transform(df_assembled)"
   ]
  },
  {
   "cell_type": "code",
   "execution_count": 22,
   "metadata": {
    "scrolled": true
   },
   "outputs": [
    {
     "name": "stdout",
     "output_type": "stream",
     "text": [
      "+---------+---------+-----------------+--------------------+--------------------+----------+\n",
      "|      lat|      lon|Accident_Severity|Number_of_Casualties|            features|prediction|\n",
      "+---------+---------+-----------------+--------------------+--------------------+----------+\n",
      "|51.489098| -0.19117|          Serious|                   1|[51.4890975952148...|         0|\n",
      "|51.520077|-0.211708|           Slight|                   1|[51.5200767517089...|         0|\n",
      "|51.525303|-0.206458|           Slight|                   1|[51.5253028869628...|         0|\n",
      "| 51.48244|-0.173862|           Slight|                   1|[51.4824409484863...|         0|\n",
      "| 51.49575|-0.156618|           Slight|                   1|[51.4957504272460...|         0|\n",
      "| 51.51554|-0.203238|           Slight|                   1|[51.5155410766601...|         0|\n",
      "|51.512695|-0.211277|           Slight|                   1|[51.5126953125,-0...|         0|\n",
      "| 51.50226|-0.187623|           Slight|                   2|[51.5022583007812...|         0|\n",
      "| 51.48342|-0.167342|           Slight|                   2|[51.4834213256835...|         0|\n",
      "|51.512444|-0.206531|           Slight|                   5|[51.5124435424804...|         0|\n",
      "|51.494904|-0.182872|           Slight|                   1|[51.4949035644531...|         0|\n",
      "|51.484043|-0.184312|           Slight|                   1|[51.4840431213378...|         0|\n",
      "| 51.49163|-0.192366|           Slight|                   1|[51.4916305541992...|         0|\n",
      "|51.492622|-0.157753|           Slight|                   1|[51.4926223754882...|         0|\n",
      "| 51.49543|-0.176224|           Slight|                   2|[51.4954299926757...|         0|\n",
      "| 51.48191| -0.18022|           Slight|                   1|[51.4819107055664...|         0|\n",
      "| 51.50019|-0.205139|          Serious|                   1|[51.5001907348632...|         0|\n",
      "| 51.49581|-0.171887|           Slight|                   1|[51.4958114624023...|         0|\n",
      "|51.486553| -0.16059|           Slight|                   1|[51.4865531921386...|         0|\n",
      "|  51.4955|-0.174925|          Serious|                   1|[51.4954986572265...|         0|\n",
      "+---------+---------+-----------------+--------------------+--------------------+----------+\n",
      "only showing top 20 rows\n",
      "\n"
     ]
    }
   ],
   "source": [
    "# \"prediction\" column shows the cluster assignment \n",
    "transformed.show()"
   ]
  },
  {
   "cell_type": "markdown",
   "metadata": {},
   "source": [
    "### 4.6 Evaluate the Cluster"
   ]
  },
  {
   "cell_type": "code",
   "execution_count": 23,
   "metadata": {},
   "outputs": [],
   "source": [
    "# Import ClusteringEvaluator\n",
    "from pyspark.ml.evaluation import ClusteringEvaluator"
   ]
  },
  {
   "cell_type": "code",
   "execution_count": 24,
   "metadata": {},
   "outputs": [],
   "source": [
    "# Evaluate clustering by computing Silhouette score\n",
    "evaluator = ClusteringEvaluator()\n",
    "silhouette = evaluator.evaluate(transformed)"
   ]
  },
  {
   "cell_type": "code",
   "execution_count": 25,
   "metadata": {},
   "outputs": [
    {
     "name": "stdout",
     "output_type": "stream",
     "text": [
      "Silhouette with squared euclidean distance = 0.718443635599194\n"
     ]
    }
   ],
   "source": [
    "# Print the Silhouette score\n",
    "print(\"Silhouette with squared euclidean distance = \" + str(silhouette))\n",
    "\n",
    "# The silhouette value is a measure of how similar an object is to its own cluster (cohesion) compared to other clusters (separation). \n",
    "# The silhouette ranges from −1 to +1, where a high value indicates that the object is well matched to its own cluster and poorly matched to neighboring clusters. \n",
    "# -Wikipedia"
   ]
  },
  {
   "cell_type": "markdown",
   "metadata": {},
   "source": [
    "From several experiments, I got this result\n",
    "\n",
    "| k | Silhouette Score |\n",
    "|---|---|\n",
    "| 2 | 0.6301058414017123 |\n",
    "| 3 | 0.718443635599194 |\n",
    "| 5 | 0.5516203069472314 |\n",
    "| 7 | 0.5524358973809714 |\n",
    "\n",
    "So, I'll choose k that has the biggest silhouette score "
   ]
  },
  {
   "cell_type": "markdown",
   "metadata": {},
   "source": [
    "### 4.7 Show the Cluster Centers"
   ]
  },
  {
   "cell_type": "code",
   "execution_count": 26,
   "metadata": {},
   "outputs": [],
   "source": [
    "centers = model.clusterCenters()"
   ]
  },
  {
   "cell_type": "code",
   "execution_count": 27,
   "metadata": {},
   "outputs": [
    {
     "name": "stdout",
     "output_type": "stream",
     "text": [
      "Cluster Centers: \n",
      "[51.58280613 -0.13750819]\n",
      "[53.42604169 -1.8494087 ]\n",
      "[51.2695775  -3.10019804]\n"
     ]
    }
   ],
   "source": [
    "# Print the cluster centers\n",
    "print(\"Cluster Centers: \")\n",
    "for center in centers:\n",
    "    print(center)"
   ]
  },
  {
   "cell_type": "markdown",
   "metadata": {},
   "source": [
    "### 4.8 Export DataFrame to CSV"
   ]
  },
  {
   "cell_type": "code",
   "execution_count": 28,
   "metadata": {},
   "outputs": [],
   "source": [
    "# Convert to Pandas\n",
    "import pandas as pd"
   ]
  },
  {
   "cell_type": "code",
   "execution_count": 29,
   "metadata": {},
   "outputs": [],
   "source": [
    "# \"transformed\" dataframe must be converted into CSV first, so mapbox API can render it\n",
    "transformed.toPandas().to_csv('/home/mocatfrio/Documents/projects/big-data/datasets/accident_area.csv')"
   ]
  },
  {
   "cell_type": "markdown",
   "metadata": {},
   "source": [
    "## 5. Visualization"
   ]
  },
  {
   "cell_type": "code",
   "execution_count": 30,
   "metadata": {},
   "outputs": [
    {
     "name": "stdout",
     "output_type": "stream",
     "text": [
      "Pixiedust database opened successfully\n"
     ]
    },
    {
     "data": {
      "text/html": [
       "\n",
       "        <div style=\"margin:10px\">\n",
       "            <a href=\"https://github.com/ibm-watson-data-lab/pixiedust\" target=\"_new\">\n",
       "                <img src=\"https://github.com/ibm-watson-data-lab/pixiedust/raw/master/docs/_static/pd_icon32.png\" style=\"float:left;margin-right:10px\"/>\n",
       "            </a>\n",
       "            <span>Pixiedust version 1.1.15</span>\n",
       "        </div>\n",
       "        "
      ],
      "text/plain": [
       "<IPython.core.display.HTML object>"
      ]
     },
     "metadata": {},
     "output_type": "display_data"
    }
   ],
   "source": [
    "# I'll use Pixiedust to do visualization\n",
    "import pixiedust"
   ]
  },
  {
   "cell_type": "markdown",
   "metadata": {},
   "source": [
    "### Using Mapbox\n",
    "\n",
    "Mapbox needs at least the following three fields in order to work with this renderer:\n",
    "\n",
    "* a latitude field named `latitude`, `lat`, or `y`\n",
    "* longitude field named `longitude`, `lon`, `long`, or `x`\n",
    "* a numeric field for visualization\n",
    "\n",
    "To use the Mapbox renderer, you need a **free API key from Mapbox**. You can get one on their website at https://www.mapbox.com/signup/. When you get your key, enter it in the Options dialog box.\n",
    "\n",
    "In the Options dialog, drag both your **latitude** and **longitude** fields into **Keys**. Then choose any **numeric fields** for **Values**. Only the first one you choose is used to color the map thematically, but any other fields specified in Values appear in a pop-up information bubble when you hover your mouse over a data point on the map.\n",
    "\n",
    "![img3](img/img3.png)"
   ]
  },
  {
   "cell_type": "code",
   "execution_count": 31,
   "metadata": {},
   "outputs": [
    {
     "name": "stdout",
     "output_type": "stream",
     "text": [
      "Downloading 'file:///home/mocatfrio/Documents/projects/big-data/datasets/accident_area.csv' from file:///home/mocatfrio/Documents/projects/big-data/datasets/accident_area.csv\n",
      "Downloaded 151974608 bytes\n",
      "Creating pySpark DataFrame for 'file:///home/mocatfrio/Documents/projects/big-data/datasets/accident_area.csv'. Please wait...\n",
      "Loading file using 'SparkSession'\n",
      "Successfully created pySpark DataFrame for 'file:///home/mocatfrio/Documents/projects/big-data/datasets/accident_area.csv'\n"
     ]
    }
   ],
   "source": [
    "# Open the CSV file\n",
    "dataset = pixiedust.sampleData('file:///home/mocatfrio/Documents/projects/big-data/datasets/accident_area.csv')"
   ]
  },
  {
   "cell_type": "code",
   "execution_count": null,
   "metadata": {
    "pixiedust": {
     "displayParams": {
      "chartsize": "80",
      "coloropacity": "100",
      "handlerId": "scatterPlot",
      "keyFields": "lat,lon",
      "kind": "choropleth",
      "mapboxtoken": "pk.eyJ1IjoibW9jYXRmcmlvIiwiYSI6ImNqdGU2ZmpubzBrMjg0NHFpdTYwbTJ0MHoifQ.H4VFTZcz7HaXtBgy-m2a3g",
      "rowCount": "1000",
      "valueFields": "num_of_casualties"
     }
    }
   },
   "outputs": [
    {
     "data": {
      "text/html": [
       "<style type=\"text/css\">.pd_warning{display:none;}</style><div class=\"pd_warning\"><em>Hey, there's something awesome here! To see it, open this notebook outside GitHub, in a viewer like Jupyter</em></div>\n",
       "        <div class=\"pd_save is-viewer-good\" style=\"padding-right:10px;text-align: center;line-height:initial !important;font-size: xx-large;font-weight: 500;color: coral;\">\n",
       "            \n",
       "        </div>\n",
       "    <div id=\"chartFigurebdb7df24\" class=\"pd_save is-viewer-good\" style=\"overflow-x:auto\">\n",
       "            \n",
       "                    \n",
       "                            <center><img style=\"max-width:initial !important\" src=\"data:image/png;base64,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\" class=\"pd_save\"></center>\n",
       "                        \n",
       "                    \n",
       "                \n",
       "        </div>"
      ],
      "text/plain": [
       "<IPython.core.display.HTML object>"
      ]
     },
     "metadata": {},
     "output_type": "display_data"
    }
   ],
   "source": [
    "display(dataset)"
   ]
  },
  {
   "cell_type": "markdown",
   "metadata": {},
   "source": [
    "* Cloropleth\n",
    "\n",
    "    ![img2](img/img2.png)"
   ]
  },
  {
   "cell_type": "markdown",
   "metadata": {},
   "source": [
    "* Cloropleth Cluster\n",
    "    \n",
    "    ![img1](img/img1.png)"
   ]
  },
  {
   "cell_type": "markdown",
   "metadata": {},
   "source": [
    "## References\n",
    "\n",
    "* https://spark.apache.org/docs/2.3.1/ml-clustering.html\n",
    "* https://stackoverflow.com/questions/47585723/kmeans-clustering-in-pyspark\n",
    "* https://pixiedust.github.io/pixiedust/displayapi.html\n",
    "* https://github.com/pixiedust/pixiedust/wiki/Tutorial:-Using-Notebooks-with-PixieDust-for-Fast,-Flexible,-and-Easier-Data-Analysis-and-Experimentation"
   ]
  }
 ],
 "metadata": {
  "kernelspec": {
   "display_name": "Python 3",
   "language": "python",
   "name": "python3"
  },
  "language_info": {
   "codemirror_mode": {
    "name": "ipython",
    "version": 3
   },
   "file_extension": ".py",
   "mimetype": "text/x-python",
   "name": "python",
   "nbconvert_exporter": "python",
   "pygments_lexer": "ipython3",
   "version": "3.5.2"
  }
 },
 "nbformat": 4,
 "nbformat_minor": 2
}

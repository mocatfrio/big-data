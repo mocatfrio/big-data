{
 "cells": [
  {
   "cell_type": "markdown",
   "metadata": {},
   "source": [
    "# Assignment 1 - Data Mining Using Apache Spark \n",
    "## 1. Preparation\n",
    "### 1.1 Requirements\n",
    "\n",
    "1. Operating System : Ubuntu 18.04.2 LTS\n",
    "2. Apache Spark 2.3.3 Binary (https://spark.apache.org/downloads.html)\n",
    "3. Python 3.6.5 (Anaconda, Inc.)\n",
    "4. PySpark 2.4.0 (Apache Spark Python API)\n",
    "5. Findspark 1.3.0 (Python's library)\n",
    "6. Jupyter Notebook (https://jupyter.org/install)\n",
    "\n",
    "### 1.2 Installation\n",
    "* [How To Install Apache Spark on Ubuntu 18.04 LTS](https://idroot.us/linux/install-apache-spark-ubuntu-18-04-lts/)\n",
    "* [Pyspark and Jupyter notebook setup in Ubuntu](https://jmedium.com/pyspark-in-python/)\n",
    "\n",
    "### 1.3 Dataset Description\n",
    "* Dataset's name: [UK Road Safety : Traffic Accidents and Vehicles](https://www.kaggle.com/tsiaras/uk-road-safety-accidents-and-vehicles)\n",
    "* Description: Detailed dataset of road accidents and involved vehicles in the UK (2005-2017). Each line represents a single traffic accident (identified by the Accident_Index column) and its various properties.\n",
    "* Details of dataset\n",
    "    * Number of rows: 2047256\n",
    "    * Number of columns: 34\n",
    "    * Size: 134MB\n",
    "    * Format: CSV\n",
    "    \n",
    "## 2. Steps\n",
    "### 2.1 Spark Initialization"
   ]
  },
  {
   "cell_type": "code",
   "execution_count": 1,
   "metadata": {},
   "outputs": [],
   "source": [
    "# Import findspark to make pyspark importable as a regular library\n",
    "import findspark\n",
    "findspark.init('/home/mocatfrio/spark') \n",
    "# /home/mocatfrio/spark has symbolic link to /bin/spark-2.3.3-bin-hadoop2.7"
   ]
  },
  {
   "cell_type": "code",
   "execution_count": 2,
   "metadata": {},
   "outputs": [],
   "source": [
    "# Import required python library\n",
    "from pyspark.sql import SparkSession\n",
    "\n",
    "# Create Spark Session\n",
    "# The entry point to programming Spark with the Dataset \n",
    "spark = SparkSession \\\n",
    "    .builder \\\n",
    "    .appName(\"Traffic Accidents and Vehicles\") \\\n",
    "    .getOrCreate()"
   ]
  },
  {
   "cell_type": "code",
   "execution_count": 3,
   "metadata": {},
   "outputs": [
    {
     "name": "stdout",
     "output_type": "stream",
     "text": [
      "<pyspark.sql.session.SparkSession object at 0x7f79c9d88b00>\n"
     ]
    }
   ],
   "source": [
    "# Print spark object ID\n",
    "print(spark)"
   ]
  },
  {
   "cell_type": "markdown",
   "metadata": {},
   "source": [
    "### 2.2 Load Dataset "
   ]
  },
  {
   "cell_type": "code",
   "execution_count": 4,
   "metadata": {},
   "outputs": [],
   "source": [
    "# Load the dataset\n",
    "df = spark.read.csv(\"/home/mocatfrio/Documents/big-data/tugas-1/Accident_Information.csv\", header=True, inferSchema=True)"
   ]
  },
  {
   "cell_type": "code",
   "execution_count": 5,
   "metadata": {},
   "outputs": [
    {
     "name": "stdout",
     "output_type": "stream",
     "text": [
      "+--------------+--------------+---------------+--------------+---------------+-----------------+-------------------+-------------------+-----------+-------------------------------------------+--------------------+--------------------+---------+--------------------+--------------------------+-------------------------+---------------------+----------------------+---------+-------------------------+--------------------+------------------+---------------------------------+---------------------------------------+-------------------+-----------------------+------------------+--------------------------+-----------+-----+-------------------+--------------------+----+----------+\n",
      "|Accident_Index|1st_Road_Class|1st_Road_Number|2nd_Road_Class|2nd_Road_Number|Accident_Severity|Carriageway_Hazards|               Date|Day_of_Week|Did_Police_Officer_Attend_Scene_of_Accident|    Junction_Control|     Junction_Detail| Latitude|    Light_Conditions|Local_Authority_(District)|Local_Authority_(Highway)|Location_Easting_OSGR|Location_Northing_OSGR|Longitude|LSOA_of_Accident_Location|Number_of_Casualties|Number_of_Vehicles|Pedestrian_Crossing-Human_Control|Pedestrian_Crossing-Physical_Facilities|       Police_Force|Road_Surface_Conditions|         Road_Type|Special_Conditions_at_Site|Speed_limit| Time|Urban_or_Rural_Area|  Weather_Conditions|Year|InScotland|\n",
      "+--------------+--------------+---------------+--------------+---------------+-----------------+-------------------+-------------------+-----------+-------------------------------------------+--------------------+--------------------+---------+--------------------+--------------------------+-------------------------+---------------------+----------------------+---------+-------------------------+--------------------+------------------+---------------------------------+---------------------------------------+-------------------+-----------------------+------------------+--------------------------+-----------+-----+-------------------+--------------------+----+----------+\n",
      "| 200501BS00001|             A|           3218|            NA|              0|          Serious|               None|2005-01-04 00:00:00|    Tuesday|                                          1|Data missing or o...|Not at junction o...|51.489096|            Daylight|      Kensington and Ch...|     Kensington and Ch...|               525680|                178240| -0.19117|                E01002849|                   1|                 1|                                0|                                      1|Metropolitan Police|            Wet or damp|Single carriageway|                      None|         30|17:42|              Urban|Raining no high w...|2005|        No|\n",
      "| 200501BS00002|             B|            450|             C|              0|           Slight|               None|2005-01-05 00:00:00|  Wednesday|                                          1| Auto traffic signal|          Crossroads|51.520075|Darkness - lights...|      Kensington and Ch...|     Kensington and Ch...|               524170|                181650|-0.211708|                E01002909|                   1|                 1|                                0|                                      5|Metropolitan Police|                    Dry|  Dual carriageway|                      None|         30|17:36|              Urban|  Fine no high winds|2005|        No|\n",
      "| 200501BS00003|             C|              0|            NA|              0|           Slight|               None|2005-01-06 00:00:00|   Thursday|                                          1|Data missing or o...|Not at junction o...|51.525301|Darkness - lights...|      Kensington and Ch...|     Kensington and Ch...|               524520|                182240|-0.206458|                E01002857|                   1|                 2|                                0|                                      0|Metropolitan Police|                    Dry|Single carriageway|                      None|         30|00:15|              Urban|  Fine no high winds|2005|        No|\n",
      "| 200501BS00004|             A|           3220|            NA|              0|           Slight|               None|2005-01-07 00:00:00|     Friday|                                          1|Data missing or o...|Not at junction o...|51.482442|            Daylight|      Kensington and Ch...|     Kensington and Ch...|               526900|                177530|-0.173862|                E01002840|                   1|                 1|                                0|                                      0|Metropolitan Police|                    Dry|Single carriageway|                      None|         30|10:35|              Urban|  Fine no high winds|2005|        No|\n",
      "| 200501BS00005|  Unclassified|              0|            NA|              0|           Slight|               None|2005-01-10 00:00:00|     Monday|                                          1|Data missing or o...|Not at junction o...|51.495752|Darkness - lighti...|      Kensington and Ch...|     Kensington and Ch...|               528060|                179040|-0.156618|                E01002863|                   1|                 1|                                0|                                      0|Metropolitan Police|            Wet or damp|Single carriageway|                      None|         30|21:13|              Urban|  Fine no high winds|2005|        No|\n",
      "| 200501BS00006|  Unclassified|              0|            NA|              0|           Slight|               None|2005-01-11 00:00:00|    Tuesday|                                          1|Data missing or o...|Not at junction o...| 51.51554|            Daylight|      Kensington and Ch...|     Kensington and Ch...|               524770|                181160|-0.203238|                E01002832|                   1|                 2|                                0|                                      0|Metropolitan Police|            Wet or damp|Single carriageway|             Oil or diesel|         30|12:40|              Urban|Raining no high w...|2005|        No|\n",
      "| 200501BS00007|             C|              0|  Unclassified|              0|           Slight|               None|2005-01-13 00:00:00|   Thursday|                                          1|Give way or uncon...|T or staggered ju...|51.512695|Darkness - lights...|      Kensington and Ch...|     Kensington and Ch...|               524220|                180830|-0.211277|                E01002875|                   1|                 2|                                0|                                      0|Metropolitan Police|                    Dry|Single carriageway|                      None|         30|20:40|              Urban|  Fine no high winds|2005|        No|\n",
      "| 200501BS00009|             A|            315|            NA|              0|           Slight|               None|2005-01-14 00:00:00|     Friday|                                          1|Data missing or o...|Not at junction o...| 51.50226|            Daylight|      Kensington and Ch...|     Kensington and Ch...|               525890|                179710|-0.187623|                E01002889|                   2|                 1|                                0|                                      0|Metropolitan Police|                    Dry|  Dual carriageway|                      None|         30|17:35|              Urban|  Fine no high winds|2005|        No|\n",
      "| 200501BS00010|             A|           3212|             B|            304|           Slight|               None|2005-01-15 00:00:00|   Saturday|                                          1| Auto traffic signal|          Crossroads| 51.48342|Darkness - lights...|      Kensington and Ch...|     Kensington and Ch...|               527350|                177650|-0.167342|                E01002900|                   2|                 2|                                0|                                      5|Metropolitan Police|                    Dry|Single carriageway|                      None|         30|22:43|              Urban|  Fine no high winds|2005|        No|\n",
      "| 200501BS00011|             B|            450|             C|              0|           Slight|               None|2005-01-15 00:00:00|   Saturday|                                          1|Give way or uncon...|T or staggered ju...|51.512443|            Daylight|      Kensington and Ch...|     Kensington and Ch...|               524550|                180810|-0.206531|                E01002875|                   5|                 2|                                0|                                      8|Metropolitan Police|                    Dry|Single carriageway|                      None|         30|16:00|              Urban|  Fine no high winds|2005|        No|\n",
      "| 200501BS00012|             A|              4|             B|            325|           Slight|               None|2005-01-16 00:00:00|     Sunday|                                          1| Auto traffic signal|          Crossroads|51.494902|Darkness - lights...|      Kensington and Ch...|     Kensington and Ch...|               526240|                178900|-0.182872|                E01002835|                   1|                 1|                                0|                                      5|Metropolitan Police|                    Dry|Single carriageway|                      None|         30|00:42|              Urban|  Fine no high winds|2005|        No|\n",
      "| 200501BS00014|             A|           3220|             A|            308|           Slight|               None|2005-01-25 00:00:00|    Tuesday|                                          1| Auto traffic signal|          Crossroads|51.484044|Darkness - lights...|      Kensington and Ch...|     Kensington and Ch...|               526170|                177690|-0.184312|                E01002912|                   1|                 2|                                0|                                      5|Metropolitan Police|            Wet or damp|Single carriageway|                      None|         30|20:48|              Urban|  Fine no high winds|2005|        No|\n",
      "| 200501BS00015|  Unclassified|              0|             A|           3220|           Slight|               None|2005-01-11 00:00:00|    Tuesday|                                          1|Give way or uncon...|T or staggered ju...|51.491632|            Daylight|      Kensington and Ch...|     Kensington and Ch...|               525590|                178520|-0.192366|                E01002849|                   1|                 1|                                0|                                      1|Metropolitan Police|            Wet or damp|    One way street|                      None|         30|12:55|              Urban|Raining no high w...|2005|        No|\n",
      "| 200501BS00016|             A|           3217|             A|           3216|           Slight|               None|2005-01-18 00:00:00|    Tuesday|                                          1|Give way or uncon...|T or staggered ju...|51.492622|Darkness - lights...|      Kensington and Ch...|     Kensington and Ch...|               527990|                178690|-0.157753|                E01002902|                   1|                 2|                                0|                                      0|Metropolitan Police|            Wet or damp|    One way street|                      None|         30|05:01|              Urban|Raining no high w...|2005|        No|\n",
      "| 200501BS00017|             A|              4|            NA|              0|           Slight|               None|2005-01-18 00:00:00|    Tuesday|                                          1|Data missing or o...|Not at junction o...|51.495429|            Daylight|      Kensington and Ch...|     Kensington and Ch...|               526700|                178970|-0.176224|                E01002821|                   2|                 1|                                0|                                      0|Metropolitan Police|                    Dry|  Dual carriageway|                      None|         30|11:15|              Urban|  Fine no high winds|2005|        No|\n",
      "| 200501BS00018|             A|           3217|  Unclassified|              0|           Slight|               None|2005-01-18 00:00:00|    Tuesday|                                          1|Give way or uncon...|T or staggered ju...|51.481912|            Daylight|      Kensington and Ch...|     Kensington and Ch...|               526460|                177460| -0.18022|                E01002840|                   1|                 1|                                0|                                      1|Metropolitan Police|                    Dry|Single carriageway|                      None|         30|10:50|              Urban|  Fine no high winds|2005|        No|\n",
      "| 200501BS00019|  Unclassified|              0|  Unclassified|              0|          Serious|               None|2005-01-20 00:00:00|   Thursday|                                          1|Give way or uncon...|T or staggered ju...|51.500191|Darkness - lights...|      Kensington and Ch...|     Kensington and Ch...|               524680|                179450|-0.205139|                E01002864|                   1|                 2|                                0|                                      0|Metropolitan Police|                    Dry|Single carriageway|                      None|         30|00:15|              Urban|  Fine no high winds|2005|        No|\n",
      "| 200501BS00020|             A|           3218|             A|              4|           Slight|               None|2005-01-21 00:00:00|     Friday|                                          1|Give way or uncon...|T or staggered ju...|51.495811|            Daylight|      Kensington and Ch...|     Kensington and Ch...|               527000|                179020|-0.171887|                E01002821|                   1|                 2|                                0|                                      0|Metropolitan Police|                    Dry|Single carriageway|                      None|         30|09:15|              Urban|  Fine no high winds|2005|        No|\n",
      "| 200501BS00021|             B|            302|            NA|              0|           Slight|               None|2005-01-21 00:00:00|     Friday|                                          1|Data missing or o...|Not at junction o...|51.486552|Darkness - lights...|      Kensington and Ch...|     Kensington and Ch...|               527810|                178010| -0.16059|                E01002901|                   1|                 2|                                0|                                      0|Metropolitan Police|                    Dry|Single carriageway|                      None|         30|21:16|              Urban|  Fine no high winds|2005|        No|\n",
      "| 200501BS00022|             A|              4|  Unclassified|              0|          Serious|               None|2005-01-08 00:00:00|   Saturday|                                          1|Give way or uncon...|T or staggered ju...|51.495498|Darkness - lights...|      Kensington and Ch...|     Kensington and Ch...|               526790|                178980|-0.174925|                E01002821|                   1|                 1|                                0|                                      0|Metropolitan Police|                    Dry|Single carriageway|                      None|         30|03:00|              Urban|  Fine no high winds|2005|        No|\n",
      "+--------------+--------------+---------------+--------------+---------------+-----------------+-------------------+-------------------+-----------+-------------------------------------------+--------------------+--------------------+---------+--------------------+--------------------------+-------------------------+---------------------+----------------------+---------+-------------------------+--------------------+------------------+---------------------------------+---------------------------------------+-------------------+-----------------------+------------------+--------------------------+-----------+-----+-------------------+--------------------+----+----------+\n",
      "only showing top 20 rows\n",
      "\n"
     ]
    }
   ],
   "source": [
    "# Print top 20 rows data\n",
    "df.show()"
   ]
  },
  {
   "cell_type": "code",
   "execution_count": 6,
   "metadata": {},
   "outputs": [
    {
     "data": {
      "text/plain": [
       "2047256"
      ]
     },
     "execution_count": 6,
     "metadata": {},
     "output_type": "execute_result"
    }
   ],
   "source": [
    "# Count data rows\n",
    "df.count()"
   ]
  },
  {
   "cell_type": "code",
   "execution_count": 7,
   "metadata": {},
   "outputs": [
    {
     "name": "stdout",
     "output_type": "stream",
     "text": [
      "root\n",
      " |-- Accident_Index: string (nullable = true)\n",
      " |-- 1st_Road_Class: string (nullable = true)\n",
      " |-- 1st_Road_Number: string (nullable = true)\n",
      " |-- 2nd_Road_Class: string (nullable = true)\n",
      " |-- 2nd_Road_Number: string (nullable = true)\n",
      " |-- Accident_Severity: string (nullable = true)\n",
      " |-- Carriageway_Hazards: string (nullable = true)\n",
      " |-- Date: timestamp (nullable = true)\n",
      " |-- Day_of_Week: string (nullable = true)\n",
      " |-- Did_Police_Officer_Attend_Scene_of_Accident: string (nullable = true)\n",
      " |-- Junction_Control: string (nullable = true)\n",
      " |-- Junction_Detail: string (nullable = true)\n",
      " |-- Latitude: string (nullable = true)\n",
      " |-- Light_Conditions: string (nullable = true)\n",
      " |-- Local_Authority_(District): string (nullable = true)\n",
      " |-- Local_Authority_(Highway): string (nullable = true)\n",
      " |-- Location_Easting_OSGR: string (nullable = true)\n",
      " |-- Location_Northing_OSGR: string (nullable = true)\n",
      " |-- Longitude: string (nullable = true)\n",
      " |-- LSOA_of_Accident_Location: string (nullable = true)\n",
      " |-- Number_of_Casualties: integer (nullable = true)\n",
      " |-- Number_of_Vehicles: integer (nullable = true)\n",
      " |-- Pedestrian_Crossing-Human_Control: string (nullable = true)\n",
      " |-- Pedestrian_Crossing-Physical_Facilities: string (nullable = true)\n",
      " |-- Police_Force: string (nullable = true)\n",
      " |-- Road_Surface_Conditions: string (nullable = true)\n",
      " |-- Road_Type: string (nullable = true)\n",
      " |-- Special_Conditions_at_Site: string (nullable = true)\n",
      " |-- Speed_limit: string (nullable = true)\n",
      " |-- Time: string (nullable = true)\n",
      " |-- Urban_or_Rural_Area: string (nullable = true)\n",
      " |-- Weather_Conditions: string (nullable = true)\n",
      " |-- Year: integer (nullable = true)\n",
      " |-- InScotland: string (nullable = true)\n",
      "\n"
     ]
    }
   ],
   "source": [
    "# inferSchema is used to inference the actual datatype of columns, especially for dates and timestamp\n",
    "df.printSchema()"
   ]
  },
  {
   "cell_type": "code",
   "execution_count": 8,
   "metadata": {},
   "outputs": [],
   "source": [
    "# Register the dataframe as a SQL temporary view\n",
    "df.createOrReplaceTempView(\"traffic_accidents\")"
   ]
  },
  {
   "cell_type": "code",
   "execution_count": 9,
   "metadata": {},
   "outputs": [],
   "source": [
    "# SQL Query to find the type of accident severity \n",
    "result = spark.sql(\"SELECT DISTINCT Accident_Severity FROM traffic_accidents\")"
   ]
  },
  {
   "cell_type": "code",
   "execution_count": 10,
   "metadata": {},
   "outputs": [
    {
     "name": "stdout",
     "output_type": "stream",
     "text": [
      "+-----------------+\n",
      "|Accident_Severity|\n",
      "+-----------------+\n",
      "|           Slight|\n",
      "|            Fatal|\n",
      "|          Serious|\n",
      "+-----------------+\n",
      "\n"
     ]
    }
   ],
   "source": [
    "result.show()"
   ]
  },
  {
   "cell_type": "markdown",
   "metadata": {},
   "source": [
    "### 2.3 Data Mining Process"
   ]
  },
  {
   "cell_type": "code",
   "execution_count": null,
   "metadata": {},
   "outputs": [],
   "source": []
  }
 ],
 "metadata": {
  "kernelspec": {
   "display_name": "Python 3",
   "language": "python",
   "name": "python3"
  },
  "language_info": {
   "codemirror_mode": {
    "name": "ipython",
    "version": 3
   },
   "file_extension": ".py",
   "mimetype": "text/x-python",
   "name": "python",
   "nbconvert_exporter": "python",
   "pygments_lexer": "ipython3",
   "version": "3.6.7"
  }
 },
 "nbformat": 4,
 "nbformat_minor": 2
}
